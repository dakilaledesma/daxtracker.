{
 "cells": [
  {
   "cell_type": "markdown",
   "source": [
    "# API Testing Notebook"
   ],
   "metadata": {
    "collapsed": false,
    "pycharm": {
     "name": "#%% md\n"
    }
   }
  },
  {
   "cell_type": "markdown",
   "source": [
    "### Imports"
   ],
   "metadata": {
    "collapsed": false,
    "pycharm": {
     "name": "#%% md\n"
    }
   }
  },
  {
   "cell_type": "code",
   "execution_count": 43,
   "metadata": {
    "collapsed": true,
    "pycharm": {
     "name": "#%%\n"
    }
   },
   "outputs": [],
   "source": [
    "import requests\n",
    "import datetime\n",
    "import pytz\n",
    "\n",
    "import os.path\n",
    "\n",
    "from google.auth.transport.requests import Request\n",
    "from google_auth_oauthlib.flow import InstalledAppFlow\n",
    "from googleapiclient.discovery import build\n",
    "from google.oauth2 import service_account\n",
    "\n",
    "from git import Repo\n",
    "import yaml\n",
    "import re\n",
    "import matplotlib\n",
    "import matplotlib.pyplot as plt\n",
    "from collections import defaultdict\n",
    "import numpy as np\n",
    "import json"
   ]
  },
  {
   "cell_type": "markdown",
   "source": [
    "### Functions"
   ],
   "metadata": {
    "collapsed": false,
    "pycharm": {
     "name": "#%% md\n"
    }
   }
  },
  {
   "cell_type": "code",
   "execution_count": 44,
   "outputs": [],
   "source": [
    "\n",
    "def section_names(headers):\n",
    "    sections_url = f\"https://api.todoist.com/rest/v2/sections?project_id={tokens['todoist_projid']}\"\n",
    "    sc = requests.get(sections_url, headers=headers)\n",
    "    s = sc.json()\n",
    "    section_dict = {}\n",
    "    for section in s:\n",
    "        section_dict[section[\"id\"]] = section[\"name\"]\n",
    "\n",
    "    return section_dict"
   ],
   "metadata": {
    "collapsed": false,
    "pycharm": {
     "name": "#%%\n"
    }
   }
  },
  {
   "cell_type": "markdown",
   "source": [
    "### Secrets"
   ],
   "metadata": {
    "collapsed": false,
    "pycharm": {
     "name": "#%% md\n"
    }
   }
  },
  {
   "cell_type": "code",
   "execution_count": 45,
   "outputs": [],
   "source": [
    "with open('secrets/secrets.json') as secrets_file:\n",
    "    tokens = json.load(secrets_file)\n",
    "\n",
    "version = 'testing'"
   ],
   "metadata": {
    "collapsed": false,
    "pycharm": {
     "name": "#%%\n"
    }
   }
  },
  {
   "cell_type": "markdown",
   "source": [
    "### Sheets Dependencies"
   ],
   "metadata": {
    "collapsed": false,
    "pycharm": {
     "name": "#%% md\n"
    }
   }
  },
  {
   "cell_type": "code",
   "execution_count": 48,
   "outputs": [],
   "source": [
    "SCOPES = ['https://www.googleapis.com/auth/spreadsheets']\n",
    "ss_id = tokens[\"sheet_id\"]\n",
    "\n",
    "creds = service_account.Credentials.from_service_account_file(\n",
    "    tokens[\"g_token_file\"], scopes=SCOPES)\n",
    "service = build('sheets', 'v4', credentials=creds)\n",
    "sheet = service.spreadsheets()"
   ],
   "metadata": {
    "collapsed": false,
    "pycharm": {
     "name": "#%%\n"
    }
   }
  },
  {
   "cell_type": "markdown",
   "source": [
    "### Todoist"
   ],
   "metadata": {
    "collapsed": false,
    "pycharm": {
     "name": "#%% md\n"
    }
   }
  },
  {
   "cell_type": "code",
   "execution_count": 59,
   "outputs": [
    {
     "name": "stdout",
     "output_type": "stream",
     "text": [
      " under <b>TDoT GI</b>\n",
      " under <b>VIGOR</b>\n",
      " under <b>TDoT GI</b>\n",
      " under <b>daxtracker.</b>\n",
      " under <b>daxtracker./Features</b>\n",
      " under <b>daxtracker./Features/Implement task hierarchies on flavor text</b>\n",
      " under <b>daxtracker./Features</b>\n",
      " under <b>daxtracker./Features</b>\n",
      " under <b>daxtracker./Features</b>\n",
      " under <b>daxtracker.</b>\n"
     ]
    }
   ],
   "source": [
    "message_list = []\n",
    "headers = {\n",
    "    'Authorization': f'Bearer {tokens[\"todoist1\"]}',\n",
    "}\n",
    "section_dict = section_names(headers)\n",
    "\n",
    "query_url = f\"https://api.todoist.com/rest/v2/tasks?project_id={tokens['todoist_projid']}\"\n",
    "res = requests.get(query_url, headers=headers)\n",
    "r = res.json()\n",
    "\n",
    "# parent_data = sheet.values().get(spreadsheetId=ss_id, range=\"Sheet2!A:B\").execute()\n",
    "# if \"values\" in parent_data.keys():\n",
    "#     parent_data = parent_data[\"values\"]\n",
    "#     parent_dict = {v[0]: v[1] for v in parent_data[1:]}\n",
    "# else:\n",
    "#     parent_dict = {}\n",
    "\n",
    "results = {}\n",
    "parents = {}\n",
    "for result in r:\n",
    "    query_url = f\"https://api.todoist.com/sync/v9/items/get?item_id={result['id']}\"\n",
    "    res = requests.get(query_url, headers=headers)\n",
    "    results[result[\"id\"]] = result\n",
    "\n",
    "for result in results.values():\n",
    "    query_url = f\"https://api.todoist.com/sync/v9/items/get?item_id={result['id']}\"\n",
    "    res = requests.get(query_url, headers=headers)\n",
    "    item = res.json()[\"item\"]\n",
    "    description = item[\"description\"]\n",
    "    section_id = item[\"section_id\"]\n",
    "    mtime = result[\"created_at\"]\n",
    "    id = result[\"id\"]\n",
    "    item_parents = {}\n",
    "\n",
    "    current_item = result\n",
    "    while True:\n",
    "        if current_item[\"parent_id\"] is None:\n",
    "            break\n",
    "        else:\n",
    "            current_item = results[current_item[\"parent_id\"]]\n",
    "            current_item_text = current_item[\"content\"]\n",
    "            if current_item_text[:2] == \"* \":\n",
    "                current_item_text = current_item_text[2:]\n",
    "            item_parents[current_item[\"id\"]] = current_item_text\n",
    "\n",
    "    # if id not in parent_dict.keys():\n",
    "    #     missing_tasks.append([id, result[\"content\"]])\n",
    "\n",
    "    dtime = datetime.datetime.strptime(mtime, \"%Y-%m-%dT%H:%M:%S.%fZ\")\n",
    "\n",
    "    if result[\"priority\"] != 1:\n",
    "        prio_text = '<span style=\"color: #ba0202;\">Priority</span>'\n",
    "    else:\n",
    "        prio_text = 'Open'\n",
    "\n",
    "    if len(description) != 0:\n",
    "        desc_text = f'<br><span class=\"desc\">{description}</span>'\n",
    "    else:\n",
    "        desc_text = ''\n",
    "\n",
    "    if all([section_id != 0, section_id is not None]):\n",
    "        if len(item_parents) != 0:\n",
    "            hierarchy_list = [v for v in item_parents.values()]\n",
    "            hierarchy_list.reverse()\n",
    "            hierarchy_flavor_text = '/' + '/'.join(hierarchy_list)\n",
    "        else:\n",
    "            hierarchy_flavor_text = ''\n",
    "\n",
    "        sect_id_text = f' under <b>{section_dict[section_id]}{hierarchy_flavor_text}</b>'\n",
    "    else:\n",
    "        sect_id_text = ''\n",
    "\n",
    "    m = f\"{prio_text} Todoist task{sect_id_text}||{result['content']}{desc_text}\"\n",
    "\n",
    "    if result['content'][0] != \"*\":\n",
    "        message_list.append(\n",
    "                {\"time\": dtime, \"message\": m, \"via\": \"Todoist\", \"id\": f'todoist_{result[\"id\"]}', \"mtime\": mtime,\n",
    "                 \"version\": version, \"priority\": result[\"priority\"]})\n",
    "\n",
    "# sheet.values().append(\n",
    "#         spreadsheetId=ss_id, range=f\"Sheet2!A:B\", valueInputOption=\"RAW\",\n",
    "#         body={\"values\": missing_tasks}).execute()"
   ],
   "metadata": {
    "collapsed": false,
    "pycharm": {
     "name": "#%%\n"
    }
   }
  },
  {
   "cell_type": "code",
   "execution_count": 39,
   "outputs": [
    {
     "name": "stdout",
     "output_type": "stream",
     "text": [
      "{'added_at': '2023-05-29T17:29:52.089860Z', 'added_by_uid': '34598745', 'assigned_by_uid': None, 'checked': True, 'child_order': -1, 'collapsed': False, 'completed_at': '2023-05-29T17:30:09.049893Z', 'content': 'no-track: subitem testing', 'description': '', 'due': None, 'id': '6919851568', 'is_deleted': False, 'labels': [], 'parent_id': '6919824157', 'priority': 1, 'project_id': '2273569911', 'responsible_uid': None, 'section_id': '109935368', 'sync_id': None, 'user_id': '34598745'}\n",
      "{'added_at': '2023-05-29T17:09:45.023259Z', 'added_by_uid': '34598745', 'assigned_by_uid': None, 'checked': True, 'child_order': 5, 'collapsed': False, 'completed_at': '2023-05-29T17:16:13.124003Z', 'content': 'Check for in-progress vs complete ID consistency', 'description': 'id (open) == task_id (completed) on Todoist Sync v9 API', 'due': None, 'id': '6919803871', 'is_deleted': False, 'labels': [], 'parent_id': None, 'priority': 1, 'project_id': '2273569911', 'responsible_uid': None, 'section_id': '109935368', 'sync_id': None, 'user_id': '34598745'}\n",
      "{'added_at': '2023-05-29T16:43:10.959137Z', 'added_by_uid': '34598745', 'assigned_by_uid': None, 'checked': True, 'child_order': 4, 'collapsed': False, 'completed_at': '2023-05-29T17:13:09.665413Z', 'content': 'no-track: Features', 'description': '', 'due': None, 'id': '6919739110', 'is_deleted': False, 'labels': [], 'parent_id': None, 'priority': 1, 'project_id': '2273569911', 'responsible_uid': None, 'section_id': '109935368', 'sync_id': None, 'user_id': '34598745'}\n",
      "{'added_at': '2023-05-28T21:36:53.874761Z', 'added_by_uid': '34598745', 'assigned_by_uid': None, 'checked': True, 'child_order': 4, 'collapsed': False, 'completed_at': '2023-05-28T21:36:55.672436Z', 'content': 'Upload STRATUM .shp and WorldClim GeoTIFF 30s precipitation data to Shared Drive', 'description': '', 'due': None, 'id': '6917530031', 'is_deleted': False, 'labels': [], 'parent_id': None, 'priority': 1, 'project_id': '2273569911', 'responsible_uid': None, 'section_id': '123494547', 'sync_id': None, 'user_id': '34598745'}\n",
      "{'added_at': '2023-05-28T21:29:48.635719Z', 'added_by_uid': '34598745', 'assigned_by_uid': None, 'checked': True, 'child_order': 1, 'collapsed': False, 'completed_at': '2023-05-28T21:29:52.439396Z', 'content': 'Create new VIGOR-NN repository under NI organization', 'description': '', 'due': None, 'id': '6917520401', 'is_deleted': False, 'labels': [], 'parent_id': None, 'priority': 1, 'project_id': '2273569911', 'responsible_uid': None, 'section_id': '108515198', 'sync_id': None, 'user_id': '34598745'}\n",
      "{'added_at': '2023-05-28T21:24:20.061573Z', 'added_by_uid': '34598745', 'assigned_by_uid': None, 'checked': True, 'child_order': 1, 'collapsed': False, 'completed_at': '2023-05-28T21:28:10.220986Z', 'content': 'Send Jennifer when2meet for VIGOR weekly meetings', 'description': '', 'due': None, 'id': '6917512750', 'is_deleted': False, 'labels': [], 'parent_id': None, 'priority': 1, 'project_id': '2273569911', 'responsible_uid': None, 'section_id': '108515198', 'sync_id': None, 'user_id': '34598745'}\n",
      "{'added_at': '2023-05-28T21:23:23.694619Z', 'added_by_uid': '34598745', 'assigned_by_uid': None, 'checked': True, 'child_order': 1, 'collapsed': False, 'completed_at': '2023-05-28T21:23:25.439919Z', 'content': 'Set up Oculus Quest 2 for Unity deployment', 'description': '', 'due': None, 'id': '6917511511', 'is_deleted': False, 'labels': [], 'parent_id': None, 'priority': 1, 'project_id': '2273569911', 'responsible_uid': None, 'section_id': '108515198', 'sync_id': None, 'user_id': '34598745'}\n",
      "{'added_at': '2023-05-28T17:25:47.929249Z', 'added_by_uid': '34598745', 'assigned_by_uid': None, 'checked': True, 'child_order': 4, 'collapsed': False, 'completed_at': '2023-05-28T17:28:04.097542Z', 'content': 'Upload CDC Wonder Mortality (Weekly) data to Shared Drive for Heat Reduction pipeline', 'description': '', 'due': None, 'id': '6917135723', 'is_deleted': False, 'labels': [], 'parent_id': None, 'priority': 1, 'project_id': '2273569911', 'responsible_uid': None, 'section_id': '123494547', 'sync_id': None, 'user_id': '34598745'}\n",
      "{'added_at': '2023-05-25T19:38:46.762283Z', 'added_by_uid': '34598745', 'assigned_by_uid': None, 'checked': True, 'child_order': 7, 'collapsed': False, 'completed_at': '2023-05-25T19:47:47.809048Z', 'content': 'HSC rx_util tweak mini-meeting, integrate finalized rx_util SQL into notebook', 'description': '', 'due': None, 'id': '6910694265', 'is_deleted': False, 'labels': [], 'parent_id': None, 'priority': 1, 'project_id': '2273569911', 'responsible_uid': None, 'section_id': '110111394', 'sync_id': None, 'user_id': '34598745'}\n",
      "{'added_at': '2023-05-25T17:55:35.075185Z', 'added_by_uid': '34598745', 'assigned_by_uid': None, 'checked': True, 'child_order': 5, 'collapsed': False, 'completed_at': '2023-05-25T19:38:06.406519Z', 'content': 'Weekly manager 1-1 meeting', 'description': '', 'due': None, 'id': '6910448261', 'is_deleted': False, 'labels': [], 'parent_id': None, 'priority': 1, 'project_id': '2273569911', 'responsible_uid': None, 'section_id': '110111394', 'sync_id': None, 'user_id': '34598745'}\n",
      "{'added_at': '2023-05-25T18:07:21.384595Z', 'added_by_uid': '34598745', 'assigned_by_uid': None, 'checked': True, 'child_order': 6, 'collapsed': False, 'completed_at': '2023-05-25T18:31:51.085654Z', 'content': 'Ask Chris about and verify rx_util ADM_SV -> ECW equivalencies', 'description': '', 'due': None, 'id': '6910476137', 'is_deleted': False, 'labels': [], 'parent_id': None, 'priority': 1, 'project_id': '2273569911', 'responsible_uid': None, 'section_id': '110111394', 'sync_id': None, 'user_id': '34598745'}\n",
      "{'added_at': '2023-05-25T17:41:11.968859Z', 'added_by_uid': '34598745', 'assigned_by_uid': None, 'checked': True, 'child_order': 4, 'collapsed': False, 'completed_at': '2023-05-25T18:29:23.701751Z', 'content': 'DSCoE Training/Working Session meeting', 'description': '', 'due': None, 'id': '6910412037', 'is_deleted': False, 'labels': [], 'parent_id': None, 'priority': 1, 'project_id': '2273569911', 'responsible_uid': None, 'section_id': '110111394', 'sync_id': None, 'user_id': '34598745'}\n",
      "{'added_at': '2023-05-25T17:19:13.714851Z', 'added_by_uid': '34598745', 'assigned_by_uid': None, 'checked': True, 'child_order': 3, 'collapsed': False, 'completed_at': '2023-05-25T18:03:23.534044Z', 'content': 'Apply year logic to recreated ECW rx_util query', 'description': '', 'due': None, 'id': '6910356548', 'is_deleted': False, 'labels': [], 'parent_id': None, 'priority': 1, 'project_id': '2273569911', 'responsible_uid': None, 'section_id': '110111394', 'sync_id': None, 'user_id': '34598745'}\n",
      "{'added_at': '2023-05-25T17:18:49.796096Z', 'added_by_uid': '34598745', 'assigned_by_uid': None, 'checked': True, 'child_order': 2, 'collapsed': False, 'completed_at': '2023-05-25T17:55:17.555110Z', 'content': 'Recreate HSC rx_util SQL to use ECW claim tables', 'description': '', 'due': None, 'id': '6910355485', 'is_deleted': False, 'labels': [], 'parent_id': None, 'priority': 1, 'project_id': '2273569911', 'responsible_uid': None, 'section_id': '110111394', 'sync_id': None, 'user_id': '34598745'}\n",
      "{'added_at': '2023-05-25T16:20:05.759400Z', 'added_by_uid': '34598745', 'assigned_by_uid': None, 'checked': True, 'child_order': 2, 'collapsed': False, 'completed_at': '2023-05-25T16:20:09.599164Z', 'content': 'Ask Chris about HSC Plan -> bnft_med conversion/efficiency', 'description': '', 'due': None, 'id': '6910196188', 'is_deleted': False, 'labels': [], 'parent_id': None, 'priority': 1, 'project_id': '2273569911', 'responsible_uid': None, 'section_id': '110111394', 'sync_id': None, 'user_id': '34598745'}\n",
      "{'added_at': '2023-05-25T16:13:28.072662Z', 'added_by_uid': '34598745', 'assigned_by_uid': None, 'checked': True, 'child_order': 2, 'collapsed': False, 'completed_at': '2023-05-25T16:15:33.757010Z', 'content': 'Analyze HSC Plan output table; check code for pulling', 'description': '', 'due': None, 'id': '6910177866', 'is_deleted': False, 'labels': [], 'parent_id': None, 'priority': 1, 'project_id': '2273569911', 'responsible_uid': None, 'section_id': '110111394', 'sync_id': None, 'user_id': '34598745'}\n",
      "{'added_at': '2023-05-25T16:08:03.839490Z', 'added_by_uid': '34598745', 'assigned_by_uid': None, 'checked': True, 'child_order': 2, 'collapsed': False, 'completed_at': '2023-05-25T16:08:05.898346Z', 'content': 'Ask Brent about rx_util and potential for a meeting', 'description': '', 'due': None, 'id': '6910163356', 'is_deleted': False, 'labels': [], 'parent_id': None, 'priority': 1, 'project_id': '2273569911', 'responsible_uid': None, 'section_id': '110111394', 'sync_id': None, 'user_id': '34598745'}\n",
      "{'added_at': '2023-05-25T15:26:03.574885Z', 'added_by_uid': '34598745', 'assigned_by_uid': None, 'checked': True, 'child_order': 2, 'collapsed': False, 'completed_at': '2023-05-25T15:44:19.991782Z', 'content': 'Analyze rx_util table output format', 'description': '', 'due': None, 'id': '6910041324', 'is_deleted': False, 'labels': [], 'parent_id': None, 'priority': 1, 'project_id': '2273569911', 'responsible_uid': None, 'section_id': '110111394', 'sync_id': None, 'user_id': '34598745'}\n",
      "{'added_at': '2023-05-23T20:39:53.631680Z', 'added_by_uid': '34598745', 'assigned_by_uid': None, 'checked': True, 'child_order': 1, 'collapsed': False, 'completed_at': '2023-05-25T15:21:36.350145Z', 'content': 'HSC Subgroup MVP on diabetes', 'description': '', 'due': None, 'id': '6904563222', 'is_deleted': False, 'labels': [], 'parent_id': None, 'priority': 1, 'project_id': '2273569911', 'responsible_uid': None, 'section_id': '110111394', 'sync_id': None, 'user_id': '34598745'}\n",
      "{'added_at': '2023-05-25T15:03:58.685999Z', 'added_by_uid': '34598745', 'assigned_by_uid': None, 'checked': True, 'child_order': 2, 'collapsed': False, 'completed_at': '2023-05-25T15:16:21.382420Z', 'content': 'Add logic to HSC Subgroup to allow for modular disease definitions', 'description': '', 'due': None, 'id': '6909972856', 'is_deleted': False, 'labels': [], 'parent_id': None, 'priority': 1, 'project_id': '2273569911', 'responsible_uid': None, 'section_id': '110111394', 'sync_id': None, 'user_id': '34598745'}\n",
      "{'added_at': '2023-05-25T14:00:05.888785Z', 'added_by_uid': '34598745', 'assigned_by_uid': None, 'checked': True, 'child_order': 4, 'collapsed': False, 'completed_at': '2023-05-25T14:33:25.268179Z', 'content': 'Send Rutvi when2meet for biweekly training schedule', 'description': '', 'due': None, 'id': '6909762170', 'is_deleted': False, 'labels': [], 'parent_id': None, 'priority': 1, 'project_id': '2273569911', 'responsible_uid': None, 'section_id': '123494547', 'sync_id': None, 'user_id': '34598745'}\n",
      "{'added_at': '2023-05-25T13:59:45.365318Z', 'added_by_uid': '34598745', 'assigned_by_uid': None, 'checked': True, 'child_order': 2, 'collapsed': False, 'completed_at': '2023-05-25T13:59:46.570383Z', 'content': 'REU program coordination, mentorship, TDoT timeline meeting', 'description': '', 'due': None, 'id': '6909761272', 'is_deleted': False, 'labels': [], 'parent_id': None, 'priority': 1, 'project_id': '2273569911', 'responsible_uid': None, 'section_id': '115627908', 'sync_id': None, 'user_id': '34598745'}\n",
      "{'added_at': '2023-05-25T13:59:04.516468Z', 'added_by_uid': '34598745', 'assigned_by_uid': None, 'checked': True, 'child_order': 3, 'collapsed': False, 'completed_at': '2023-05-25T13:59:05.664128Z', 'content': 'TDoT GI Progress and Milestones meeting', 'description': '', 'due': None, 'id': '6909759248', 'is_deleted': False, 'labels': [], 'parent_id': None, 'priority': 1, 'project_id': '2273569911', 'responsible_uid': None, 'section_id': '123494547', 'sync_id': None, 'user_id': '34598745'}\n",
      "{'added_at': '2023-05-25T01:25:25.050469Z', 'added_by_uid': '34598745', 'assigned_by_uid': None, 'checked': True, 'child_order': 2, 'collapsed': False, 'completed_at': '2023-05-25T01:25:27.617653Z', 'content': 'DSCoE Dinner', 'description': '', 'due': None, 'id': '6908225686', 'is_deleted': False, 'labels': [], 'parent_id': None, 'priority': 1, 'project_id': '2273569911', 'responsible_uid': None, 'section_id': '110111394', 'sync_id': None, 'user_id': '34598745'}\n",
      "{'added_at': '2023-05-24T22:22:47.174291Z', 'added_by_uid': '34598745', 'assigned_by_uid': None, 'checked': True, 'child_order': 3, 'collapsed': False, 'completed_at': '2023-05-24T22:22:51.889451Z', 'content': 'DSCoE Post-Picnic Boat Social', 'description': '', 'due': None, 'id': '6907981234', 'is_deleted': False, 'labels': [], 'parent_id': None, 'priority': 1, 'project_id': '2273569911', 'responsible_uid': None, 'section_id': '110111394', 'sync_id': None, 'user_id': '34598745'}\n",
      "{'added_at': '2023-05-24T22:22:36.014540Z', 'added_by_uid': '34598745', 'assigned_by_uid': None, 'checked': True, 'child_order': 2, 'collapsed': False, 'completed_at': '2023-05-24T22:22:49.988812Z', 'content': 'All-Employee Summer Event', 'description': '', 'due': None, 'id': '6907980943', 'is_deleted': False, 'labels': [], 'parent_id': None, 'priority': 1, 'project_id': '2273569911', 'responsible_uid': None, 'section_id': '110111394', 'sync_id': None, 'user_id': '34598745'}\n",
      "{'added_at': '2023-05-23T20:00:38.997940Z', 'added_by_uid': '34598745', 'assigned_by_uid': None, 'checked': True, 'child_order': 1, 'collapsed': False, 'completed_at': '2023-05-23T20:15:14.901598Z', 'content': 'Figure out what HSC Subgroup output table format', 'description': '', 'due': None, 'id': '6904463218', 'is_deleted': False, 'labels': [], 'parent_id': None, 'priority': 1, 'project_id': '2273569911', 'responsible_uid': None, 'section_id': '110111394', 'sync_id': None, 'user_id': '34598745'}\n",
      "{'added_at': '2023-05-23T19:55:45.669571Z', 'added_by_uid': '34598745', 'assigned_by_uid': None, 'checked': True, 'child_order': 1, 'collapsed': False, 'completed_at': '2023-05-23T19:55:47.332237Z', 'content': 'Review ESRI Conference Work meeting', 'description': '', 'due': None, 'id': '6904450829', 'is_deleted': False, 'labels': [], 'parent_id': None, 'priority': 1, 'project_id': '2273569911', 'responsible_uid': None, 'section_id': '110111394', 'sync_id': None, 'user_id': '34598745'}\n",
      "{'added_at': '2023-05-23T19:55:26.943315Z', 'added_by_uid': '34598745', 'assigned_by_uid': None, 'checked': True, 'child_order': 1, 'collapsed': False, 'completed_at': '2023-05-23T19:55:28.473868Z', 'content': 'HSC Subgroups discussion/working mini-meeting', 'description': '', 'due': None, 'id': '6904450055', 'is_deleted': False, 'labels': [], 'parent_id': None, 'priority': 1, 'project_id': '2273569911', 'responsible_uid': None, 'section_id': '110111394', 'sync_id': None, 'user_id': '34598745'}\n",
      "{'added_at': '2023-05-23T19:50:07.722214Z', 'added_by_uid': '34598745', 'assigned_by_uid': None, 'checked': True, 'child_order': 1, 'collapsed': False, 'completed_at': '2023-05-23T19:50:09.262287Z', 'content': 'Implement Sentry Killer, send to PA Team', 'description': '', 'due': None, 'id': '6904436421', 'is_deleted': False, 'labels': [], 'parent_id': None, 'priority': 1, 'project_id': '2273569911', 'responsible_uid': None, 'section_id': '110111394', 'sync_id': None, 'user_id': '34598745'}\n"
     ]
    }
   ],
   "source": [
    "event_dict = {}\n",
    "message_list = []\n",
    "\n",
    "headers = {\n",
    "    'Authorization': f'Bearer {tokens[\"todoist1\"]}',\n",
    "}\n",
    "section_dict = section_names(headers)\n",
    "query_url = f\"https://api.todoist.com/sync/v9/completed/get_all?project_id={tokens['todoist_projid']}\"\n",
    "res = requests.get(query_url, headers=headers)\n",
    "r = res.json()[\"items\"]\n",
    "for result in r:\n",
    "\n",
    "    if f\"todoist_{result['id']}\" not in event_dict.keys():\n",
    "        query_url = f\"https://api.todoist.com/sync/v9/items/get?item_id={result['task_id']}\"\n",
    "        res = requests.get(query_url, headers=headers)\n",
    "        print(res.json()[\"item\"])\n",
    "        try:\n",
    "            item = res.json()[\"item\"]\n",
    "        except KeyError:\n",
    "            description = ''\n",
    "            section_id = None\n",
    "        else:\n",
    "            description = item[\"description\"]\n",
    "            section_id = item[\"section_id\"]\n",
    "\n",
    "        if len(description) != 0:\n",
    "            desc_text = f'<br><span class=\"desc\">{description}</span>'\n",
    "        else:\n",
    "            desc_text = ''\n",
    "\n",
    "        if section_id is not None:\n",
    "            sect_id_text = f' under <b>{section_dict[section_id]}</b>'\n",
    "        else:\n",
    "            sect_id_text = ''\n",
    "\n",
    "        m = f\"Closed Todoist task{sect_id_text}||{result['content']}{desc_text}\"\n",
    "    else:\n",
    "        m = event_dict[f\"todoist_{result['id']}\"][1]\n",
    "\n",
    "    # Thanks to Jon Betts on https://stackoverflow.com/questions/23394608/python-regex-fails-to-identify-markdown-links\n",
    "    name_regex = \"[^]]+\"\n",
    "    url_regex = \"http[s]?://[^)]+\"\n",
    "    link_regex = '\\[({0})]\\(\\s*({1})\\s*\\)'.format(name_regex, url_regex)\n",
    "\n",
    "    # Thanks to NPE & kubanczyk on https://stackoverflow.com/questions/7191209/re-sub-replace-with-matched-content\n",
    "    m = re.sub(link_regex, r'<a href=\"\\2\">\\1</a>', m)\n",
    "\n",
    "    mtime = result[\"completed_at\"]\n",
    "    dtime = datetime.datetime.strptime(mtime, \"%Y-%m-%dT%H:%M:%S.%fZ\")\n",
    "    message_list.append(\n",
    "        {\"time\": dtime, \"message\": m, \"via\": \"Todoist\", \"id\": f'todoist_{result[\"id\"]}', \"mtime\": mtime,\n",
    "         \"version\": version})"
   ],
   "metadata": {
    "collapsed": false,
    "pycharm": {
     "name": "#%%\n"
    }
   }
  },
  {
   "cell_type": "code",
   "execution_count": null,
   "outputs": [],
   "source": [],
   "metadata": {
    "collapsed": false,
    "pycharm": {
     "name": "#%%\n"
    }
   }
  }
 ],
 "metadata": {
  "kernelspec": {
   "display_name": "Python 3",
   "language": "python",
   "name": "python3"
  },
  "language_info": {
   "codemirror_mode": {
    "name": "ipython",
    "version": 2
   },
   "file_extension": ".py",
   "mimetype": "text/x-python",
   "name": "python",
   "nbconvert_exporter": "python",
   "pygments_lexer": "ipython2",
   "version": "2.7.6"
  }
 },
 "nbformat": 4,
 "nbformat_minor": 0
}