{
 "cells": [
  {
   "cell_type": "markdown",
   "source": [
    "# API Testing Notebook"
   ],
   "metadata": {
    "collapsed": false,
    "pycharm": {
     "name": "#%% md\n"
    }
   }
  },
  {
   "cell_type": "markdown",
   "source": [
    "### Imports"
   ],
   "metadata": {
    "collapsed": false,
    "pycharm": {
     "name": "#%% md\n"
    }
   }
  },
  {
   "cell_type": "code",
   "execution_count": 9,
   "metadata": {
    "collapsed": true,
    "pycharm": {
     "name": "#%%\n"
    }
   },
   "outputs": [],
   "source": [
    "import requests\n",
    "import datetime\n",
    "import pytz\n",
    "\n",
    "import os.path\n",
    "\n",
    "from google.auth.transport.requests import Request\n",
    "from google_auth_oauthlib.flow import InstalledAppFlow\n",
    "from googleapiclient.discovery import build\n",
    "from google.oauth2 import service_account\n",
    "\n",
    "from git import Repo\n",
    "import yaml\n",
    "import re\n",
    "import matplotlib\n",
    "import matplotlib.pyplot as plt\n",
    "from collections import defaultdict\n",
    "import numpy as np\n",
    "import json"
   ]
  },
  {
   "cell_type": "markdown",
   "source": [
    "### Functions"
   ],
   "metadata": {
    "collapsed": false,
    "pycharm": {
     "name": "#%% md\n"
    }
   }
  },
  {
   "cell_type": "code",
   "execution_count": 10,
   "outputs": [],
   "source": [
    "\n",
    "def section_names(headers):\n",
    "    sections_url = f\"https://api.todoist.com/rest/v2/sections?project_id={tokens['todoist_projid']}\"\n",
    "    sc = requests.get(sections_url, headers=headers)\n",
    "    s = sc.json()\n",
    "    section_dict = {}\n",
    "    for section in s:\n",
    "        section_dict[section[\"id\"]] = section[\"name\"]\n",
    "\n",
    "    return section_dict"
   ],
   "metadata": {
    "collapsed": false,
    "pycharm": {
     "name": "#%%\n"
    }
   }
  },
  {
   "cell_type": "markdown",
   "source": [
    "### Secrets"
   ],
   "metadata": {
    "collapsed": false,
    "pycharm": {
     "name": "#%% md\n"
    }
   }
  },
  {
   "cell_type": "code",
   "execution_count": 11,
   "outputs": [],
   "source": [
    "with open('secrets/secrets.json') as secrets_file:\n",
    "    tokens = json.load(secrets_file)\n",
    "\n",
    "version = 'testing'"
   ],
   "metadata": {
    "collapsed": false,
    "pycharm": {
     "name": "#%%\n"
    }
   }
  },
  {
   "cell_type": "markdown",
   "source": [
    "### Todoist"
   ],
   "metadata": {
    "collapsed": false,
    "pycharm": {
     "name": "#%% md\n"
    }
   }
  },
  {
   "cell_type": "code",
   "execution_count": 29,
   "outputs": [
    {
     "name": "stdout",
     "output_type": "stream",
     "text": [
      "{'id': '6897450733', 'assigner_id': None, 'assignee_id': None, 'project_id': '2273569911', 'section_id': '123494547', 'parent_id': None, 'order': 1, 'content': 'Simpler implementation of STRATUM region data, minimum PoC', 'description': '', 'is_completed': False, 'labels': [], 'priority': 1, 'comment_count': 0, 'creator_id': '34598745', 'created_at': '2023-05-21T19:31:14.390266Z', 'due': None, 'url': 'https://todoist.com/showTask?id=6897450733'}\n",
      "{'id': '6917520931', 'assigner_id': None, 'assignee_id': None, 'project_id': '2273569911', 'section_id': '108515198', 'parent_id': None, 'order': 1, 'content': 'Migrate old VIGOR NN resources (and hopefully find old VHNN code)', 'description': '', 'is_completed': False, 'labels': [], 'priority': 1, 'comment_count': 0, 'creator_id': '34598745', 'created_at': '2023-05-28T21:30:10.684459Z', 'due': None, 'url': 'https://todoist.com/showTask?id=6917520931'}\n",
      "{'id': '6909683084', 'assigner_id': None, 'assignee_id': None, 'project_id': '2273569911', 'section_id': '123494547', 'parent_id': None, 'order': 2, 'content': 'Make milestone half-pager', 'description': '', 'is_completed': False, 'labels': [], 'priority': 1, 'comment_count': 0, 'creator_id': '34598745', 'created_at': '2023-05-25T13:37:39.099679Z', 'due': None, 'url': 'https://todoist.com/showTask?id=6909683084'}\n",
      "{'id': '6919824157', 'assigner_id': None, 'assignee_id': None, 'project_id': '2273569911', 'section_id': '109935368', 'parent_id': None, 'order': 7, 'content': 'Features', 'description': '', 'is_completed': False, 'labels': [], 'priority': 1, 'comment_count': 0, 'creator_id': '34598745', 'created_at': '2023-05-29T17:18:22.856660Z', 'due': None, 'url': 'https://todoist.com/showTask?id=6919824157'}\n",
      "{'id': '6919739931', 'assigner_id': None, 'assignee_id': None, 'project_id': '2273569911', 'section_id': '109935368', 'parent_id': '6919824157', 'order': 0, 'content': 'Implement task hierarchies on flavor text', 'description': '', 'is_completed': False, 'labels': [], 'priority': 1, 'comment_count': 0, 'creator_id': '34598745', 'created_at': '2023-05-29T16:43:30.633196Z', 'due': None, 'url': 'https://todoist.com/showTask?id=6919739931'}\n",
      "{'id': '6515753886', 'assigner_id': None, 'assignee_id': None, 'project_id': '2273569911', 'section_id': '109935368', 'parent_id': '6919824157', 'order': 1, 'content': 'Might be nice to add an unobfuscation feature', 'description': 'Through a password or something.', 'is_completed': False, 'labels': [], 'priority': 1, 'comment_count': 0, 'creator_id': '34598745', 'created_at': '2023-01-12T14:02:12.506148Z', 'due': None, 'url': 'https://todoist.com/showTask?id=6515753886'}\n",
      "{'id': '6913368388', 'assigner_id': None, 'assignee_id': None, 'project_id': '2273569911', 'section_id': '109935368', 'parent_id': '6919824157', 'order': 2, 'content': 'Smarter implementation of tokens', 'description': '', 'is_completed': False, 'labels': [], 'priority': 1, 'comment_count': 0, 'creator_id': '34598745', 'created_at': '2023-05-26T17:21:32.956641Z', 'due': None, 'url': 'https://todoist.com/showTask?id=6913368388'}\n",
      "{'id': '6910733073', 'assigner_id': None, 'assignee_id': None, 'project_id': '2273569911', 'section_id': '109935368', 'parent_id': '6919824157', 'order': 3, 'content': 'Implement task hierarchies on flavor text', 'description': '', 'is_completed': False, 'labels': [], 'priority': 1, 'comment_count': 0, 'creator_id': '34598745', 'created_at': '2023-05-25T19:55:14.122084Z', 'due': None, 'url': 'https://todoist.com/showTask?id=6910733073'}\n",
      "{'id': '6919826155', 'assigner_id': None, 'assignee_id': None, 'project_id': '2273569911', 'section_id': '109935368', 'parent_id': None, 'order': 8, 'content': 'Bugfixes', 'description': '', 'is_completed': False, 'labels': [], 'priority': 1, 'comment_count': 0, 'creator_id': '34598745', 'created_at': '2023-05-29T17:19:01.144681Z', 'due': None, 'url': 'https://todoist.com/showTask?id=6919826155'}\n"
     ]
    }
   ],
   "source": [
    "message_list = []\n",
    "headers = {\n",
    "    'Authorization': f'Bearer {tokens[\"todoist1\"]}',\n",
    "}\n",
    "section_dict = section_names(headers)\n",
    "\n",
    "query_url = f\"https://api.todoist.com/rest/v2/tasks?project_id={tokens['todoist_projid']}\"\n",
    "res = requests.get(query_url, headers=headers)\n",
    "r = res.json()\n",
    "\n",
    "for result in r:\n",
    "    query_url = f\"https://api.todoist.com/sync/v9/items/get?item_id={result['id']}\"\n",
    "    res = requests.get(query_url, headers=headers)\n",
    "    item = res.json()[\"item\"]\n",
    "    description = item[\"description\"]\n",
    "    section_id = item[\"section_id\"]\n",
    "    mtime = result[\"created_at\"]\n",
    "    parent = result[\"parent_id\"]\n",
    "    print(result)\n",
    "    dtime = datetime.datetime.strptime(mtime, \"%Y-%m-%dT%H:%M:%S.%fZ\")\n",
    "\n",
    "    if result[\"priority\"] != 1:\n",
    "        prio_text = '<span style=\"color: #ba0202;\">Priority</span>'\n",
    "    else:\n",
    "        prio_text = 'Open'\n",
    "\n",
    "    if len(description) != 0:\n",
    "        desc_text = f'<br><span class=\"desc\">{description}</span>'\n",
    "    else:\n",
    "        desc_text = ''\n",
    "\n",
    "    if all([section_id != 0, section_id is not None]):\n",
    "        sect_id_text = f' under <b>{section_dict[section_id]}</b>'\n",
    "    else:\n",
    "        sect_id_text = ''\n",
    "\n",
    "    m = f\"{prio_text} Todoist task{sect_id_text}||{result['content']}{desc_text}\"\n",
    "    message_list.append(\n",
    "            {\"time\": dtime, \"message\": m, \"via\": \"Todoist\", \"id\": f'todoist_{result[\"id\"]}', \"mtime\": mtime,\n",
    "             \"version\": version, \"priority\": result[\"priority\"]})"
   ],
   "metadata": {
    "collapsed": false,
    "pycharm": {
     "name": "#%%\n"
    }
   }
  },
  {
   "cell_type": "code",
   "execution_count": 28,
   "outputs": [
    {
     "name": "stdout",
     "output_type": "stream",
     "text": [
      "{'completed_at': '2023-05-29T17:30:09.000000Z', 'content': 'no-track: subitem testing', 'id': '6354429467', 'meta_data': None, 'project_id': '2273569911', 'section_id': '109935368', 'task_id': '6919851568', 'user_id': '34598745'}\n",
      "{'completed_at': '2023-05-29T17:16:13.000000Z', 'content': 'Check for in-progress vs complete ID consistency', 'id': '6354398414', 'meta_data': None, 'project_id': '2273569911', 'section_id': '109935368', 'task_id': '6919803871', 'user_id': '34598745'}\n",
      "{'completed_at': '2023-05-29T17:13:10.000000Z', 'content': 'no-track: Features', 'id': '6354391418', 'meta_data': None, 'project_id': '2273569911', 'section_id': '109935368', 'task_id': '6919739110', 'user_id': '34598745'}\n",
      "{'completed_at': '2023-05-28T21:36:56.000000Z', 'content': 'Upload STRATUM .shp and WorldClim GeoTIFF 30s precipitation data to Shared Drive', 'id': '6352338909', 'meta_data': None, 'project_id': '2273569911', 'section_id': '123494547', 'task_id': '6917530031', 'user_id': '34598745'}\n",
      "{'completed_at': '2023-05-28T21:29:52.000000Z', 'content': 'Create new VIGOR-NN repository under NI organization', 'id': '6352328867', 'meta_data': None, 'project_id': '2273569911', 'section_id': '108515198', 'task_id': '6917520401', 'user_id': '34598745'}\n",
      "{'completed_at': '2023-05-28T21:28:10.000000Z', 'content': 'Send Jennifer when2meet for VIGOR weekly meetings', 'id': '6352326359', 'meta_data': None, 'project_id': '2273569911', 'section_id': '108515198', 'task_id': '6917512750', 'user_id': '34598745'}\n",
      "{'completed_at': '2023-05-28T21:23:25.000000Z', 'content': 'Set up Oculus Quest 2 for Unity deployment', 'id': '6352319549', 'meta_data': None, 'project_id': '2273569911', 'section_id': '108515198', 'task_id': '6917511511', 'user_id': '34598745'}\n",
      "{'completed_at': '2023-05-28T17:28:04.000000Z', 'content': 'Upload CDC Wonder Mortality (Weekly) data to Shared Drive for Heat Reduction pipeline', 'id': '6351944420', 'meta_data': None, 'project_id': '2273569911', 'section_id': '123494547', 'task_id': '6917135723', 'user_id': '34598745'}\n",
      "{'completed_at': '2023-05-25T19:47:48.000000Z', 'content': 'HSC rx_util tweak mini-meeting, integrate finalized rx_util SQL into notebook', 'id': '6345578347', 'meta_data': None, 'project_id': '2273569911', 'section_id': '110111394', 'task_id': '6910694265', 'user_id': '34598745'}\n",
      "{'completed_at': '2023-05-25T19:38:06.000000Z', 'content': 'Weekly manager 1-1 meeting', 'id': '6345555920', 'meta_data': None, 'project_id': '2273569911', 'section_id': '110111394', 'task_id': '6910448261', 'user_id': '34598745'}\n",
      "{'completed_at': '2023-05-25T18:31:51.000000Z', 'content': 'Ask Chris about and verify rx_util ADM_SV -> ECW equivalencies', 'id': '6345407972', 'meta_data': None, 'project_id': '2273569911', 'section_id': '110111394', 'task_id': '6910476137', 'user_id': '34598745'}\n",
      "{'completed_at': '2023-05-25T18:29:24.000000Z', 'content': 'DSCoE Training/Working Session meeting', 'id': '6345402483', 'meta_data': None, 'project_id': '2273569911', 'section_id': '110111394', 'task_id': '6910412037', 'user_id': '34598745'}\n",
      "{'completed_at': '2023-05-25T18:03:24.000000Z', 'content': 'Apply year logic to recreated ECW rx_util query', 'id': '6345344457', 'meta_data': None, 'project_id': '2273569911', 'section_id': '110111394', 'task_id': '6910356548', 'user_id': '34598745'}\n",
      "{'completed_at': '2023-05-25T17:55:18.000000Z', 'content': 'Recreate HSC rx_util SQL to use ECW claim tables', 'id': '6345324500', 'meta_data': None, 'project_id': '2273569911', 'section_id': '110111394', 'task_id': '6910355485', 'user_id': '34598745'}\n",
      "{'completed_at': '2023-05-25T16:20:10.000000Z', 'content': 'Ask Chris about HSC Plan -> bnft_med conversion/efficiency', 'id': '6345091573', 'meta_data': None, 'project_id': '2273569911', 'section_id': '110111394', 'task_id': '6910196188', 'user_id': '34598745'}\n",
      "{'completed_at': '2023-05-25T16:15:34.000000Z', 'content': 'Analyze HSC Plan output table; check code for pulling', 'id': '6345079730', 'meta_data': None, 'project_id': '2273569911', 'section_id': '110111394', 'task_id': '6910177866', 'user_id': '34598745'}\n",
      "{'completed_at': '2023-05-25T16:08:06.000000Z', 'content': 'Ask Brent about rx_util and potential for a meeting', 'id': '6345059860', 'meta_data': None, 'project_id': '2273569911', 'section_id': '110111394', 'task_id': '6910163356', 'user_id': '34598745'}\n",
      "{'completed_at': '2023-05-25T15:44:20.000000Z', 'content': 'Analyze rx_util table output format', 'id': '6344995012', 'meta_data': None, 'project_id': '2273569911', 'section_id': '110111394', 'task_id': '6910041324', 'user_id': '34598745'}\n",
      "{'completed_at': '2023-05-25T15:21:36.000000Z', 'content': 'HSC Subgroup MVP on diabetes', 'id': '6344930708', 'meta_data': None, 'project_id': '2273569911', 'section_id': '110111394', 'task_id': '6904563222', 'user_id': '34598745'}\n",
      "{'completed_at': '2023-05-25T15:16:21.000000Z', 'content': 'Add logic to HSC Subgroup to allow for modular disease definitions', 'id': '6344915476', 'meta_data': None, 'project_id': '2273569911', 'section_id': '110111394', 'task_id': '6909972856', 'user_id': '34598745'}\n",
      "{'completed_at': '2023-05-25T14:33:25.000000Z', 'content': 'Send Rutvi when2meet for biweekly training schedule', 'id': '6344788584', 'meta_data': None, 'project_id': '2273569911', 'section_id': '123494547', 'task_id': '6909762170', 'user_id': '34598745'}\n",
      "{'completed_at': '2023-05-25T13:59:47.000000Z', 'content': 'REU program coordination, mentorship, TDoT timeline meeting', 'id': '6344684877', 'meta_data': None, 'project_id': '2273569911', 'section_id': '115627908', 'task_id': '6909761272', 'user_id': '34598745'}\n",
      "{'completed_at': '2023-05-25T13:59:06.000000Z', 'content': 'TDoT GI Progress and Milestones meeting', 'id': '6344682863', 'meta_data': None, 'project_id': '2273569911', 'section_id': '123494547', 'task_id': '6909759248', 'user_id': '34598745'}\n",
      "{'completed_at': '2023-05-25T01:25:28.000000Z', 'content': 'DSCoE Dinner', 'id': '6343284866', 'meta_data': None, 'project_id': '2273569911', 'section_id': '110111394', 'task_id': '6908225686', 'user_id': '34598745'}\n",
      "{'completed_at': '2023-05-24T22:22:52.000000Z', 'content': 'DSCoE Post-Picnic Boat Social', 'id': '6343027088', 'meta_data': None, 'project_id': '2273569911', 'section_id': '110111394', 'task_id': '6907981234', 'user_id': '34598745'}\n",
      "{'completed_at': '2023-05-24T22:22:50.000000Z', 'content': 'All-Employee Summer Event', 'id': '6343027042', 'meta_data': None, 'project_id': '2273569911', 'section_id': '110111394', 'task_id': '6907980943', 'user_id': '34598745'}\n",
      "{'completed_at': '2023-05-23T20:15:15.000000Z', 'content': 'Figure out what HSC Subgroup output table format', 'id': '6339821273', 'meta_data': None, 'project_id': '2273569911', 'section_id': '110111394', 'task_id': '6904463218', 'user_id': '34598745'}\n",
      "{'completed_at': '2023-05-23T19:55:47.000000Z', 'content': 'Review ESRI Conference Work meeting', 'id': '6339772928', 'meta_data': None, 'project_id': '2273569911', 'section_id': '110111394', 'task_id': '6904450829', 'user_id': '34598745'}\n",
      "{'completed_at': '2023-05-23T19:55:28.000000Z', 'content': 'HSC Subgroups discussion/working mini-meeting', 'id': '6339772119', 'meta_data': None, 'project_id': '2273569911', 'section_id': '110111394', 'task_id': '6904450055', 'user_id': '34598745'}\n",
      "{'completed_at': '2023-05-23T19:50:09.000000Z', 'content': 'Implement Sentry Killer, send to PA Team', 'id': '6339759343', 'meta_data': None, 'project_id': '2273569911', 'section_id': '110111394', 'task_id': '6904436421', 'user_id': '34598745'}\n",
      "{'completed_at': '2023-05-29T17:30:09.000000Z', 'content': 'no-track: subitem testing', 'id': '6354429467', 'meta_data': None, 'project_id': '2273569911', 'section_id': '109935368', 'task_id': '6919851568', 'user_id': '34598745'}\n",
      "{'completed_at': '2023-05-29T17:16:13.000000Z', 'content': 'Check for in-progress vs complete ID consistency', 'id': '6354398414', 'meta_data': None, 'project_id': '2273569911', 'section_id': '109935368', 'task_id': '6919803871', 'user_id': '34598745'}\n",
      "{'completed_at': '2023-05-29T17:13:10.000000Z', 'content': 'no-track: Features', 'id': '6354391418', 'meta_data': None, 'project_id': '2273569911', 'section_id': '109935368', 'task_id': '6919739110', 'user_id': '34598745'}\n",
      "{'completed_at': '2023-05-28T21:36:56.000000Z', 'content': 'Upload STRATUM .shp and WorldClim GeoTIFF 30s precipitation data to Shared Drive', 'id': '6352338909', 'meta_data': None, 'project_id': '2273569911', 'section_id': '123494547', 'task_id': '6917530031', 'user_id': '34598745'}\n",
      "{'completed_at': '2023-05-28T21:29:52.000000Z', 'content': 'Create new VIGOR-NN repository under NI organization', 'id': '6352328867', 'meta_data': None, 'project_id': '2273569911', 'section_id': '108515198', 'task_id': '6917520401', 'user_id': '34598745'}\n",
      "{'completed_at': '2023-05-28T21:28:10.000000Z', 'content': 'Send Jennifer when2meet for VIGOR weekly meetings', 'id': '6352326359', 'meta_data': None, 'project_id': '2273569911', 'section_id': '108515198', 'task_id': '6917512750', 'user_id': '34598745'}\n",
      "{'completed_at': '2023-05-28T21:23:25.000000Z', 'content': 'Set up Oculus Quest 2 for Unity deployment', 'id': '6352319549', 'meta_data': None, 'project_id': '2273569911', 'section_id': '108515198', 'task_id': '6917511511', 'user_id': '34598745'}\n",
      "{'completed_at': '2023-05-28T17:28:04.000000Z', 'content': 'Upload CDC Wonder Mortality (Weekly) data to Shared Drive for Heat Reduction pipeline', 'id': '6351944420', 'meta_data': None, 'project_id': '2273569911', 'section_id': '123494547', 'task_id': '6917135723', 'user_id': '34598745'}\n",
      "{'completed_at': '2023-05-25T19:47:48.000000Z', 'content': 'HSC rx_util tweak mini-meeting, integrate finalized rx_util SQL into notebook', 'id': '6345578347', 'meta_data': None, 'project_id': '2273569911', 'section_id': '110111394', 'task_id': '6910694265', 'user_id': '34598745'}\n",
      "{'completed_at': '2023-05-25T19:38:06.000000Z', 'content': 'Weekly manager 1-1 meeting', 'id': '6345555920', 'meta_data': None, 'project_id': '2273569911', 'section_id': '110111394', 'task_id': '6910448261', 'user_id': '34598745'}\n",
      "{'completed_at': '2023-05-25T18:31:51.000000Z', 'content': 'Ask Chris about and verify rx_util ADM_SV -> ECW equivalencies', 'id': '6345407972', 'meta_data': None, 'project_id': '2273569911', 'section_id': '110111394', 'task_id': '6910476137', 'user_id': '34598745'}\n",
      "{'completed_at': '2023-05-25T18:29:24.000000Z', 'content': 'DSCoE Training/Working Session meeting', 'id': '6345402483', 'meta_data': None, 'project_id': '2273569911', 'section_id': '110111394', 'task_id': '6910412037', 'user_id': '34598745'}\n",
      "{'completed_at': '2023-05-25T18:03:24.000000Z', 'content': 'Apply year logic to recreated ECW rx_util query', 'id': '6345344457', 'meta_data': None, 'project_id': '2273569911', 'section_id': '110111394', 'task_id': '6910356548', 'user_id': '34598745'}\n",
      "{'completed_at': '2023-05-25T17:55:18.000000Z', 'content': 'Recreate HSC rx_util SQL to use ECW claim tables', 'id': '6345324500', 'meta_data': None, 'project_id': '2273569911', 'section_id': '110111394', 'task_id': '6910355485', 'user_id': '34598745'}\n",
      "{'completed_at': '2023-05-25T16:20:10.000000Z', 'content': 'Ask Chris about HSC Plan -> bnft_med conversion/efficiency', 'id': '6345091573', 'meta_data': None, 'project_id': '2273569911', 'section_id': '110111394', 'task_id': '6910196188', 'user_id': '34598745'}\n",
      "{'completed_at': '2023-05-25T16:15:34.000000Z', 'content': 'Analyze HSC Plan output table; check code for pulling', 'id': '6345079730', 'meta_data': None, 'project_id': '2273569911', 'section_id': '110111394', 'task_id': '6910177866', 'user_id': '34598745'}\n",
      "{'completed_at': '2023-05-25T16:08:06.000000Z', 'content': 'Ask Brent about rx_util and potential for a meeting', 'id': '6345059860', 'meta_data': None, 'project_id': '2273569911', 'section_id': '110111394', 'task_id': '6910163356', 'user_id': '34598745'}\n",
      "{'completed_at': '2023-05-25T15:44:20.000000Z', 'content': 'Analyze rx_util table output format', 'id': '6344995012', 'meta_data': None, 'project_id': '2273569911', 'section_id': '110111394', 'task_id': '6910041324', 'user_id': '34598745'}\n",
      "{'completed_at': '2023-05-25T15:21:36.000000Z', 'content': 'HSC Subgroup MVP on diabetes', 'id': '6344930708', 'meta_data': None, 'project_id': '2273569911', 'section_id': '110111394', 'task_id': '6904563222', 'user_id': '34598745'}\n",
      "{'completed_at': '2023-05-25T15:16:21.000000Z', 'content': 'Add logic to HSC Subgroup to allow for modular disease definitions', 'id': '6344915476', 'meta_data': None, 'project_id': '2273569911', 'section_id': '110111394', 'task_id': '6909972856', 'user_id': '34598745'}\n",
      "{'completed_at': '2023-05-25T14:33:25.000000Z', 'content': 'Send Rutvi when2meet for biweekly training schedule', 'id': '6344788584', 'meta_data': None, 'project_id': '2273569911', 'section_id': '123494547', 'task_id': '6909762170', 'user_id': '34598745'}\n",
      "{'completed_at': '2023-05-25T13:59:47.000000Z', 'content': 'REU program coordination, mentorship, TDoT timeline meeting', 'id': '6344684877', 'meta_data': None, 'project_id': '2273569911', 'section_id': '115627908', 'task_id': '6909761272', 'user_id': '34598745'}\n",
      "{'completed_at': '2023-05-25T13:59:06.000000Z', 'content': 'TDoT GI Progress and Milestones meeting', 'id': '6344682863', 'meta_data': None, 'project_id': '2273569911', 'section_id': '123494547', 'task_id': '6909759248', 'user_id': '34598745'}\n",
      "{'completed_at': '2023-05-25T01:25:28.000000Z', 'content': 'DSCoE Dinner', 'id': '6343284866', 'meta_data': None, 'project_id': '2273569911', 'section_id': '110111394', 'task_id': '6908225686', 'user_id': '34598745'}\n",
      "{'completed_at': '2023-05-24T22:22:52.000000Z', 'content': 'DSCoE Post-Picnic Boat Social', 'id': '6343027088', 'meta_data': None, 'project_id': '2273569911', 'section_id': '110111394', 'task_id': '6907981234', 'user_id': '34598745'}\n",
      "{'completed_at': '2023-05-24T22:22:50.000000Z', 'content': 'All-Employee Summer Event', 'id': '6343027042', 'meta_data': None, 'project_id': '2273569911', 'section_id': '110111394', 'task_id': '6907980943', 'user_id': '34598745'}\n",
      "{'completed_at': '2023-05-23T20:15:15.000000Z', 'content': 'Figure out what HSC Subgroup output table format', 'id': '6339821273', 'meta_data': None, 'project_id': '2273569911', 'section_id': '110111394', 'task_id': '6904463218', 'user_id': '34598745'}\n",
      "{'completed_at': '2023-05-23T19:55:47.000000Z', 'content': 'Review ESRI Conference Work meeting', 'id': '6339772928', 'meta_data': None, 'project_id': '2273569911', 'section_id': '110111394', 'task_id': '6904450829', 'user_id': '34598745'}\n",
      "{'completed_at': '2023-05-23T19:55:28.000000Z', 'content': 'HSC Subgroups discussion/working mini-meeting', 'id': '6339772119', 'meta_data': None, 'project_id': '2273569911', 'section_id': '110111394', 'task_id': '6904450055', 'user_id': '34598745'}\n",
      "{'completed_at': '2023-05-23T19:50:09.000000Z', 'content': 'Implement Sentry Killer, send to PA Team', 'id': '6339759343', 'meta_data': None, 'project_id': '2273569911', 'section_id': '110111394', 'task_id': '6904436421', 'user_id': '34598745'}\n"
     ]
    }
   ],
   "source": [
    "event_dict = {}\n",
    "message_list = []\n",
    "\n",
    "headers = {\n",
    "    'Authorization': f'Bearer {tokens[\"todoist1\"]}',\n",
    "}\n",
    "section_dict = section_names(headers)\n",
    "query_url = f\"https://api.todoist.com/sync/v9/completed/get_all?project_id={tokens['todoist_projid']}\"\n",
    "res = requests.get(query_url, headers=headers)\n",
    "r = res.json()[\"items\"]\n",
    "for result in r:\n",
    "    print(result)\n",
    "    if f\"todoist_{result['id']}\" not in event_dict.keys():\n",
    "        query_url = f\"https://api.todoist.com/sync/v9/items/get?item_id={result['task_id']}\"\n",
    "        res = requests.get(query_url, headers=headers)\n",
    "        try:\n",
    "            item = res.json()[\"item\"]\n",
    "        except KeyError:\n",
    "            description = ''\n",
    "            section_id = None\n",
    "        else:\n",
    "            description = item[\"description\"]\n",
    "            section_id = item[\"section_id\"]\n",
    "\n",
    "        if len(description) != 0:\n",
    "            desc_text = f'<br><span class=\"desc\">{description}</span>'\n",
    "        else:\n",
    "            desc_text = ''\n",
    "\n",
    "        if section_id is not None:\n",
    "            sect_id_text = f' under <b>{section_dict[section_id]}</b>'\n",
    "        else:\n",
    "            sect_id_text = ''\n",
    "\n",
    "        m = f\"Closed Todoist task{sect_id_text}||{result['content']}{desc_text}\"\n",
    "    else:\n",
    "        m = event_dict[f\"todoist_{result['id']}\"][1]\n",
    "\n",
    "    # Thanks to Jon Betts on https://stackoverflow.com/questions/23394608/python-regex-fails-to-identify-markdown-links\n",
    "    name_regex = \"[^]]+\"\n",
    "    url_regex = \"http[s]?://[^)]+\"\n",
    "    link_regex = '\\[({0})]\\(\\s*({1})\\s*\\)'.format(name_regex, url_regex)\n",
    "\n",
    "    # Thanks to NPE & kubanczyk on https://stackoverflow.com/questions/7191209/re-sub-replace-with-matched-content\n",
    "    m = re.sub(link_regex, r'<a href=\"\\2\">\\1</a>', m)\n",
    "\n",
    "    mtime = result[\"completed_at\"]\n",
    "    dtime = datetime.datetime.strptime(mtime, \"%Y-%m-%dT%H:%M:%S.%fZ\")\n",
    "    message_list.append(\n",
    "        {\"time\": dtime, \"message\": m, \"via\": \"Todoist\", \"id\": f'todoist_{result[\"id\"]}', \"mtime\": mtime,\n",
    "         \"version\": version})"
   ],
   "metadata": {
    "collapsed": false,
    "pycharm": {
     "name": "#%%\n"
    }
   }
  },
  {
   "cell_type": "code",
   "execution_count": null,
   "outputs": [],
   "source": [],
   "metadata": {
    "collapsed": false,
    "pycharm": {
     "name": "#%%\n"
    }
   }
  }
 ],
 "metadata": {
  "kernelspec": {
   "display_name": "Python 3",
   "language": "python",
   "name": "python3"
  },
  "language_info": {
   "codemirror_mode": {
    "name": "ipython",
    "version": 2
   },
   "file_extension": ".py",
   "mimetype": "text/x-python",
   "name": "python",
   "nbconvert_exporter": "python",
   "pygments_lexer": "ipython2",
   "version": "2.7.6"
  }
 },
 "nbformat": 4,
 "nbformat_minor": 0
}