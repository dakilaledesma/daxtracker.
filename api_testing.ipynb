{
 "cells": [
  {
   "cell_type": "markdown",
   "source": [
    "# API Testing Notebook"
   ],
   "metadata": {
    "collapsed": false,
    "pycharm": {
     "name": "#%% md\n"
    }
   }
  },
  {
   "cell_type": "markdown",
   "source": [
    "### Imports"
   ],
   "metadata": {
    "collapsed": false,
    "pycharm": {
     "name": "#%% md\n"
    }
   }
  },
  {
   "cell_type": "code",
   "execution_count": 1,
   "metadata": {
    "collapsed": true,
    "pycharm": {
     "name": "#%%\n"
    }
   },
   "outputs": [],
   "source": [
    "import requests\n",
    "import datetime\n",
    "import pytz\n",
    "\n",
    "import os.path\n",
    "\n",
    "from google.auth.transport.requests import Request\n",
    "from google_auth_oauthlib.flow import InstalledAppFlow\n",
    "from googleapiclient.discovery import build\n",
    "from google.oauth2 import service_account\n",
    "\n",
    "from git import Repo\n",
    "import yaml\n",
    "import re\n",
    "import matplotlib\n",
    "import matplotlib.pyplot as plt\n",
    "from collections import defaultdict\n",
    "import numpy as np\n",
    "import json"
   ]
  },
  {
   "cell_type": "markdown",
   "source": [
    "### Functions"
   ],
   "metadata": {
    "collapsed": false,
    "pycharm": {
     "name": "#%% md\n"
    }
   }
  },
  {
   "cell_type": "code",
   "execution_count": 2,
   "outputs": [],
   "source": [
    "\n",
    "def section_names(headers):\n",
    "    sections_url = f\"https://api.todoist.com/rest/v2/sections?project_id={tokens['todoist_projid']}\"\n",
    "    sc = requests.get(sections_url, headers=headers)\n",
    "    s = sc.json()\n",
    "    section_dict = {}\n",
    "    for section in s:\n",
    "        section_dict[section[\"id\"]] = section[\"name\"]\n",
    "\n",
    "    return section_dict"
   ],
   "metadata": {
    "collapsed": false,
    "pycharm": {
     "name": "#%%\n"
    }
   }
  },
  {
   "cell_type": "markdown",
   "source": [
    "### Secrets"
   ],
   "metadata": {
    "collapsed": false,
    "pycharm": {
     "name": "#%% md\n"
    }
   }
  },
  {
   "cell_type": "code",
   "execution_count": 3,
   "outputs": [],
   "source": [
    "with open('secrets/secrets.json') as secrets_file:\n",
    "    tokens = json.load(secrets_file)\n",
    "\n",
    "version = 'testing'"
   ],
   "metadata": {
    "collapsed": false,
    "pycharm": {
     "name": "#%%\n"
    }
   }
  },
  {
   "cell_type": "markdown",
   "source": [
    "### Todoist"
   ],
   "metadata": {
    "collapsed": false,
    "pycharm": {
     "name": "#%% md\n"
    }
   }
  },
  {
   "cell_type": "code",
   "execution_count": 4,
   "outputs": [
    {
     "name": "stdout",
     "output_type": "stream",
     "text": [
      "{'id': '6515753886', 'assigner_id': None, 'assignee_id': None, 'project_id': '2273569911', 'section_id': '109935368', 'parent_id': None, 'order': 1, 'content': '[Feature] Might be nice to add an unobfuscation feature', 'description': 'Through a password or something.', 'is_completed': False, 'labels': [], 'priority': 1, 'comment_count': 0, 'creator_id': '34598745', 'created_at': '2023-01-12T14:02:12.506148Z', 'due': None, 'url': 'https://todoist.com/showTask?id=6515753886'}\n",
      "{'id': '6897450733', 'assigner_id': None, 'assignee_id': None, 'project_id': '2273569911', 'section_id': '123494547', 'parent_id': None, 'order': 1, 'content': 'Simpler implementation of STRATUM region data, minimum PoC', 'description': '', 'is_completed': False, 'labels': [], 'priority': 1, 'comment_count': 0, 'creator_id': '34598745', 'created_at': '2023-05-21T19:31:14.390266Z', 'due': None, 'url': 'https://todoist.com/showTask?id=6897450733'}\n",
      "{'id': '6909683084', 'assigner_id': None, 'assignee_id': None, 'project_id': '2273569911', 'section_id': '123494547', 'parent_id': None, 'order': 2, 'content': 'Make milestone half-pager', 'description': '', 'is_completed': False, 'labels': [], 'priority': 1, 'comment_count': 0, 'creator_id': '34598745', 'created_at': '2023-05-25T13:37:39.099679Z', 'due': None, 'url': 'https://todoist.com/showTask?id=6909683084'}\n",
      "{'id': '6910733073', 'assigner_id': None, 'assignee_id': None, 'project_id': '2273569911', 'section_id': '109935368', 'parent_id': None, 'order': 2, 'content': '[Feature] Implement task hierarchies on flavor text', 'description': '', 'is_completed': False, 'labels': [], 'priority': 1, 'comment_count': 0, 'creator_id': '34598745', 'created_at': '2023-05-25T19:55:14.122084Z', 'due': None, 'url': 'https://todoist.com/showTask?id=6910733073'}\n",
      "{'id': '6909761912', 'assigner_id': None, 'assignee_id': None, 'project_id': '2273569911', 'section_id': '123494547', 'parent_id': None, 'order': 3, 'content': 'Upload equation/case-study datasets', 'description': '', 'is_completed': False, 'labels': [], 'priority': 1, 'comment_count': 0, 'creator_id': '34598745', 'created_at': '2023-05-25T13:59:58.175574Z', 'due': None, 'url': 'https://todoist.com/showTask?id=6909761912'}\n"
     ]
    }
   ],
   "source": [
    "message_list = []\n",
    "headers = {\n",
    "    'Authorization': f'Bearer {tokens[\"todoist1\"]}',\n",
    "}\n",
    "section_dict = section_names(headers)\n",
    "\n",
    "query_url = f\"https://api.todoist.com/rest/v2/tasks?project_id={tokens['todoist_projid']}\"\n",
    "res = requests.get(query_url, headers=headers)\n",
    "r = res.json()\n",
    "\n",
    "for result in r:\n",
    "    print(result)\n",
    "#     query_url = f\"https://api.todoist.com/sync/v9/items/get?item_id={result['id']}\"\n",
    "#     res = requests.get(query_url, headers=headers)\n",
    "#     item = res.json()[\"item\"]\n",
    "#     description = item[\"description\"]\n",
    "#     section_id = item[\"section_id\"]\n",
    "#     mtime = result[\"created_at\"]\n",
    "#     dtime = datetime.datetime.strptime(mtime, \"%Y-%m-%dT%H:%M:%S.%fZ\")\n",
    "#\n",
    "#     if result[\"priority\"] != 1:\n",
    "#         prio_text = '<span style=\"color: #ba0202;\">Priority</span>'\n",
    "#     else:\n",
    "#         prio_text = 'Open'\n",
    "#\n",
    "#     if len(description) != 0:\n",
    "#         desc_text = f'<br><span class=\"desc\">{description}</span>'\n",
    "#     else:\n",
    "#         desc_text = ''\n",
    "#\n",
    "#     if all([section_id != 0, section_id is not None]):\n",
    "#         sect_id_text = f' under <b>{section_dict[section_id]}</b>'\n",
    "#     else:\n",
    "#         sect_id_text = ''\n",
    "#\n",
    "#     m = f\"{prio_text} Todoist task{sect_id_text}||{result['content']}{desc_text}\"\n",
    "#     message_list.append(\n",
    "#         {\"time\": dtime, \"message\": m, \"via\": \"Todoist\", \"id\": f'todoist_{result[\"id\"]}', \"mtime\": mtime,\n",
    "#          \"version\": version, \"priority\": result[\"priority\"]})"
   ],
   "metadata": {
    "collapsed": false,
    "pycharm": {
     "name": "#%%\n"
    }
   }
  }
 ],
 "metadata": {
  "kernelspec": {
   "display_name": "Python 3",
   "language": "python",
   "name": "python3"
  },
  "language_info": {
   "codemirror_mode": {
    "name": "ipython",
    "version": 2
   },
   "file_extension": ".py",
   "mimetype": "text/x-python",
   "name": "python",
   "nbconvert_exporter": "python",
   "pygments_lexer": "ipython2",
   "version": "2.7.6"
  }
 },
 "nbformat": 4,
 "nbformat_minor": 0
}