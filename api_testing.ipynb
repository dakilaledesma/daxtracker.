{
 "cells": [
  {
   "cell_type": "markdown",
   "source": [
    "# API Testing Notebook"
   ],
   "metadata": {
    "collapsed": false,
    "pycharm": {
     "name": "#%% md\n"
    }
   }
  },
  {
   "cell_type": "markdown",
   "source": [
    "### Imports"
   ],
   "metadata": {
    "collapsed": false,
    "pycharm": {
     "name": "#%% md\n"
    }
   }
  },
  {
   "cell_type": "code",
   "execution_count": 43,
   "metadata": {
    "collapsed": true,
    "pycharm": {
     "name": "#%%\n"
    }
   },
   "outputs": [],
   "source": [
    "import requests\n",
    "import datetime\n",
    "import pytz\n",
    "\n",
    "import os.path\n",
    "\n",
    "from google.auth.transport.requests import Request\n",
    "from google_auth_oauthlib.flow import InstalledAppFlow\n",
    "from googleapiclient.discovery import build\n",
    "from google.oauth2 import service_account\n",
    "\n",
    "from git import Repo\n",
    "import yaml\n",
    "import re\n",
    "import matplotlib\n",
    "import matplotlib.pyplot as plt\n",
    "from collections import defaultdict\n",
    "import numpy as np\n",
    "import json"
   ]
  },
  {
   "cell_type": "markdown",
   "source": [
    "### Functions"
   ],
   "metadata": {
    "collapsed": false,
    "pycharm": {
     "name": "#%% md\n"
    }
   }
  },
  {
   "cell_type": "code",
   "execution_count": 44,
   "outputs": [],
   "source": [
    "\n",
    "def section_names(headers):\n",
    "    sections_url = f\"https://api.todoist.com/rest/v2/sections?project_id={tokens['todoist_projid']}\"\n",
    "    sc = requests.get(sections_url, headers=headers)\n",
    "    s = sc.json()\n",
    "    section_dict = {}\n",
    "    for section in s:\n",
    "        section_dict[section[\"id\"]] = section[\"name\"]\n",
    "\n",
    "    return section_dict"
   ],
   "metadata": {
    "collapsed": false,
    "pycharm": {
     "name": "#%%\n"
    }
   }
  },
  {
   "cell_type": "markdown",
   "source": [
    "### Secrets"
   ],
   "metadata": {
    "collapsed": false,
    "pycharm": {
     "name": "#%% md\n"
    }
   }
  },
  {
   "cell_type": "code",
   "execution_count": 45,
   "outputs": [],
   "source": [
    "with open('secrets/secrets.json') as secrets_file:\n",
    "    tokens = json.load(secrets_file)\n",
    "\n",
    "version = 'testing'"
   ],
   "metadata": {
    "collapsed": false,
    "pycharm": {
     "name": "#%%\n"
    }
   }
  },
  {
   "cell_type": "markdown",
   "source": [
    "### Sheets Dependencies"
   ],
   "metadata": {
    "collapsed": false,
    "pycharm": {
     "name": "#%% md\n"
    }
   }
  },
  {
   "cell_type": "code",
   "execution_count": 48,
   "outputs": [],
   "source": [
    "SCOPES = ['https://www.googleapis.com/auth/spreadsheets']\n",
    "ss_id = tokens[\"sheet_id\"]\n",
    "\n",
    "creds = service_account.Credentials.from_service_account_file(\n",
    "    tokens[\"g_token_file\"], scopes=SCOPES)\n",
    "service = build('sheets', 'v4', credentials=creds)\n",
    "sheet = service.spreadsheets()"
   ],
   "metadata": {
    "collapsed": false,
    "pycharm": {
     "name": "#%%\n"
    }
   }
  },
  {
   "cell_type": "markdown",
   "source": [
    "### Todoist"
   ],
   "metadata": {
    "collapsed": false,
    "pycharm": {
     "name": "#%% md\n"
    }
   }
  },
  {
   "cell_type": "code",
   "execution_count": 70,
   "outputs": [
    {
     "name": "stdout",
     "output_type": "stream",
     "text": [
      "Open Todoist task under <b>TDoT GI</b>||* Meetings\n",
      "Open Todoist task under <b>TDoT GI/Meetings on 06/03 at 09:00 AM</b>||TDoT Weekly Training/Development meeting\n",
      "Open Todoist task under <b>BCBS</b>||* Meetings\n",
      "Open Todoist task under <b>TDoT GI</b>||Short implement simplified STRATUM for training purposes\n",
      "Open Todoist task under <b>BCBS</b>||* HSC\n",
      "Open Todoist task under <b>BCBS/HSC</b>||Implement bnft_mbr<br><span class=\"desc\">[http://shareatwork/c/DMGI/Shared%20Documents/DW%20Website/Info_Tips/Identifying_LOB.pdf](http://shareatwork/c/DMGI/Shared%20Documents/DW%20Website/Info_Tips/Identifying_LOB.pdf)\n",
      "fi = fully insured, aso = self funded\n",
      "HDP + FSA?</span>\n",
      "Open Todoist task under <b>BCBS/HSC</b>||Implement med_util\n",
      "Open Todoist task under <b>BCBS/HSC</b>||Start building proto-data pipeline to model HSC\n",
      "Open Todoist task under <b>daxtracker.</b>||* Features\n",
      "Open Todoist task under <b>daxtracker./Features</b>||Implement task hierarchies on flavor text\n",
      "Open Todoist task under <b>daxtracker./Features</b>||Add health to the daxtracker.<br><span class=\"desc\">Probably best to make it more discreet than the work items</span>\n",
      "Open Todoist task under <b>daxtracker./Features/Add health to the daxtracker.</b>||Set up Google Fit access to Apple Health data, server-side read data through Fit REST API\n",
      "Open Todoist task under <b>daxtracker./Features</b>||Add meeting times to task items flavor text\n",
      "Open Todoist task under <b>BCBS</b>||* General\n",
      "Open Todoist task under <b>daxtracker.</b>||* Bugfixes\n"
     ]
    }
   ],
   "source": [
    "message_list = []\n",
    "headers = {\n",
    "    'Authorization': f'Bearer {tokens[\"todoist1\"]}',\n",
    "}\n",
    "section_dict = section_names(headers)\n",
    "\n",
    "query_url = f\"https://api.todoist.com/rest/v2/tasks?project_id={tokens['todoist_projid']}\"\n",
    "res = requests.get(query_url, headers=headers)\n",
    "r = res.json()\n",
    "\n",
    "# parent_data = sheet.values().get(spreadsheetId=ss_id, range=\"Sheet2!A:B\").execute()\n",
    "# if \"values\" in parent_data.keys():\n",
    "#     parent_data = parent_data[\"values\"]\n",
    "#     parent_dict = {v[0]: v[1] for v in parent_data[1:]}\n",
    "# else:\n",
    "#     parent_dict = {}\n",
    "\n",
    "results = {}\n",
    "parents = {}\n",
    "ress = {}\n",
    "for result in r:\n",
    "    query_url = f\"https://api.todoist.com/sync/v9/items/get?item_id={result['id']}\"\n",
    "    res = requests.get(query_url, headers=headers)\n",
    "    results[result[\"id\"]] = result\n",
    "    ress[result[\"id\"]] = res\n",
    "\n",
    "    content_text = result[\"content\"]\n",
    "    if content_text[:2] == \"* \":\n",
    "        content_text = content_text[2:]\n",
    "    # parent_dict[result[\"id\"]] = content_text\n",
    "\n",
    "for result, res in zip(results.values(), ress.values()):\n",
    "    item = res.json()[\"item\"]\n",
    "    description = item[\"description\"]\n",
    "    section_id = item[\"section_id\"]\n",
    "    mtime = result[\"created_at\"]\n",
    "    item_parents = {}\n",
    "\n",
    "    current_item = result\n",
    "    while True:\n",
    "        if current_item[\"parent_id\"] is None:\n",
    "            break\n",
    "        else:\n",
    "            current_item = results[current_item[\"parent_id\"]]\n",
    "            current_item_text = current_item[\"content\"]\n",
    "            if current_item_text[:2] == \"* \":\n",
    "                current_item_text = current_item_text[2:]\n",
    "            item_parents[current_item[\"id\"]] = current_item_text\n",
    "\n",
    "    # if id not in parent_dict.keys():\n",
    "    #     missing_tasks.append([id, result[\"content\"]])\n",
    "\n",
    "    dtime = datetime.datetime.strptime(mtime, \"%Y-%m-%dT%H:%M:%S.%fZ\")\n",
    "\n",
    "    if result[\"priority\"] != 1:\n",
    "        prio_text = '<span style=\"color: #ba0202;\">Priority</span>'\n",
    "    else:\n",
    "        prio_text = 'Open'\n",
    "\n",
    "    if len(description) != 0:\n",
    "        desc_text = f'<br><span class=\"desc\">{description}</span>'\n",
    "    else:\n",
    "        desc_text = ''\n",
    "\n",
    "    if all([section_id != 0, section_id is not None]):\n",
    "        if len(item_parents) != 0:\n",
    "            hierarchy_list = [v for v in item_parents.values()]\n",
    "            hierarchy_list.reverse()\n",
    "            hierarchy_flavor_text = '/' + '/'.join(hierarchy_list)\n",
    "        else:\n",
    "            hierarchy_flavor_text = ''\n",
    "\n",
    "        if result[\"due\"] is not None:\n",
    "            at_datetime = datetime.datetime.strptime(result[\"due\"][\"datetime\"], \"%Y-%m-%dT%H:%M:%S\")\n",
    "            at_flavor_text = f\" on {at_datetime.strftime('%m/%d')} at {at_datetime.strftime('%I:%M %p')}\"\n",
    "        else:\n",
    "            at_flavor_text = ''\n",
    "\n",
    "        sect_id_text = f' under <b>{section_dict[section_id]}{hierarchy_flavor_text}{at_flavor_text}</b>'\n",
    "    else:\n",
    "        sect_id_text = ''\n",
    "\n",
    "    m = f\"{prio_text} Todoist task{sect_id_text}||{result['content']}{desc_text}\"\n",
    "    print(m)\n",
    "\n",
    "    if result['content'][0] != \"*\":\n",
    "        message_list.append(\n",
    "                {\"time\": dtime, \"message\": m, \"via\": \"Todoist\", \"id\": f'todoist_{result[\"id\"]}', \"mtime\": mtime,\n",
    "                 \"version\": version, \"priority\": result[\"priority\"]})\n",
    "\n",
    "# sheet.values().append(\n",
    "#         spreadsheetId=ss_id, range=f\"Sheet2!A:B\", valueInputOption=\"RAW\",\n",
    "#         body={\"values\": missing_tasks}).execute()"
   ],
   "metadata": {
    "collapsed": false,
    "pycharm": {
     "name": "#%%\n"
    }
   }
  },
  {
   "cell_type": "code",
   "execution_count": 69,
   "outputs": [
    {
     "name": "stdout",
     "output_type": "stream",
     "text": [
      "{'added_at': '2023-05-25T13:37:39.099679Z', 'added_by_uid': '34598745', 'assigned_by_uid': None, 'checked': True, 'child_order': 2, 'collapsed': False, 'completed_at': '2023-06-02T13:52:39.909703Z', 'content': 'Make **TDoT GI Technical Milestones document**', 'description': '', 'due': None, 'id': '6909683084', 'is_deleted': False, 'labels': [], 'parent_id': None, 'priority': 1, 'project_id': '2273569911', 'responsible_uid': None, 'section_id': '123494547', 'sync_id': None, 'user_id': '34598745'}\n",
      "{'added_at': '2023-06-01T18:28:48.379110Z', 'added_by_uid': '34598745', 'assigned_by_uid': None, 'checked': True, 'child_order': 1, 'collapsed': False, 'completed_at': '2023-06-01T18:28:52.075798Z', 'content': 'Weekly DSCoE Training/Working Session', 'description': '', 'due': None, 'id': '6930020229', 'is_deleted': False, 'labels': [], 'parent_id': '6920222142', 'priority': 1, 'project_id': '2273569911', 'responsible_uid': None, 'section_id': '110111394', 'sync_id': None, 'user_id': '34598745'}\n",
      "{'added_at': '2023-06-01T13:21:12.356171Z', 'added_by_uid': '34598745', 'assigned_by_uid': None, 'checked': True, 'child_order': 1, 'collapsed': False, 'completed_at': '2023-06-01T18:28:31.479793Z', 'content': 'OpenAI Use Case Discussion meeting', 'description': '', 'due': None, 'id': '6929089858', 'is_deleted': False, 'labels': [], 'parent_id': '6920222142', 'priority': 1, 'project_id': '2273569911', 'responsible_uid': None, 'section_id': '110111394', 'sync_id': None, 'user_id': '34598745'}\n",
      "{'added_at': '2023-06-01T13:56:44.038244Z', 'added_by_uid': '34598745', 'assigned_by_uid': None, 'checked': True, 'child_order': 1, 'collapsed': False, 'completed_at': '2023-06-01T13:56:47.412870Z', 'content': 'Create initial data pipeline workflow', 'description': '', 'due': None, 'id': '6929221867', 'is_deleted': False, 'labels': [], 'parent_id': '6929170649', 'priority': 1, 'project_id': '2273569911', 'responsible_uid': None, 'section_id': '110111394', 'sync_id': None, 'user_id': '34598745'}\n",
      "{'added_at': '2023-05-31T18:56:43.365832Z', 'added_by_uid': '34598745', 'assigned_by_uid': None, 'checked': True, 'child_order': 10, 'collapsed': False, 'completed_at': '2023-06-01T13:20:47.277719Z', 'content': 'Create and submit Expense Report for Summer Event', 'description': '', 'due': None, 'id': '6926805921', 'is_deleted': False, 'labels': [], 'parent_id': '6925963431', 'priority': 1, 'project_id': '2273569911', 'responsible_uid': None, 'section_id': '110111394', 'sync_id': None, 'user_id': '34598745'}\n",
      "{'added_at': '2023-06-01T13:00:04.684257Z', 'added_by_uid': '34598745', 'assigned_by_uid': None, 'checked': True, 'child_order': 1, 'collapsed': False, 'completed_at': '2023-06-01T13:00:09.038600Z', 'content': 'Send when2meet for project-based teams on Teams channel', 'description': '', 'due': None, 'id': '6929022081', 'is_deleted': False, 'labels': [], 'parent_id': None, 'priority': 1, 'project_id': '2273569911', 'responsible_uid': None, 'section_id': '115627908', 'sync_id': None, 'user_id': '34598745'}\n",
      "{'added_at': '2023-05-31T17:13:05.876714Z', 'added_by_uid': '34598745', 'assigned_by_uid': None, 'checked': True, 'child_order': 2, 'collapsed': False, 'completed_at': '2023-05-31T20:02:08.114497Z', 'content': 'Generative AI Workgroup Kickoff meeting', 'description': '', 'due': None, 'id': '6926524283', 'is_deleted': False, 'labels': [], 'parent_id': '6920222142', 'priority': 1, 'project_id': '2273569911', 'responsible_uid': None, 'section_id': '110111394', 'sync_id': None, 'user_id': '34598745'}\n",
      "{'added_at': '2023-05-31T17:12:35.142887Z', 'added_by_uid': '34598745', 'assigned_by_uid': None, 'checked': True, 'child_order': 1, 'collapsed': False, 'completed_at': '2023-05-31T18:59:31.529389Z', 'content': 'Weekly manager 1-1 meeting', 'description': '', 'due': None, 'id': '6926522808', 'is_deleted': False, 'labels': [], 'parent_id': '6920222142', 'priority': 1, 'project_id': '2273569911', 'responsible_uid': None, 'section_id': '110111394', 'sync_id': None, 'user_id': '34598745'}\n",
      "{'added_at': '2023-05-30T15:08:21.379949Z', 'added_by_uid': '34598745', 'assigned_by_uid': None, 'checked': True, 'child_order': 10, 'collapsed': False, 'completed_at': '2023-05-31T18:27:15.730451Z', 'content': 'Implement Experian using CC Clusters', 'description': '', 'due': None, 'id': '6922763603', 'is_deleted': False, 'labels': [], 'parent_id': '6920222312', 'priority': 1, 'project_id': '2273569911', 'responsible_uid': None, 'section_id': '110111394', 'sync_id': None, 'user_id': '34598745'}\n",
      "{'added_at': '2023-05-31T18:27:06.544641Z', 'added_by_uid': '34598745', 'assigned_by_uid': None, 'checked': True, 'child_order': 2, 'collapsed': False, 'completed_at': '2023-05-31T18:27:14.001796Z', 'content': 'Intergrate Experian SQL to DB notebook', 'description': '', 'due': None, 'id': '6926728235', 'is_deleted': False, 'labels': [], 'parent_id': '6922763603', 'priority': 1, 'project_id': '2273569911', 'responsible_uid': None, 'section_id': '110111394', 'sync_id': None, 'user_id': '34598745'}\n",
      "{'added_at': '2023-05-31T18:26:54.144174Z', 'added_by_uid': '34598745', 'assigned_by_uid': None, 'checked': True, 'child_order': 1, 'collapsed': False, 'completed_at': '2023-05-31T18:27:13.191471Z', 'content': 'Finish HSC Experian SQL', 'description': '', 'due': None, 'id': '6926727384', 'is_deleted': False, 'labels': [], 'parent_id': '6922763603', 'priority': 1, 'project_id': '2273569911', 'responsible_uid': None, 'section_id': '110111394', 'sync_id': None, 'user_id': '34598745'}\n",
      "{'added_at': '2023-05-31T17:12:16.694193Z', 'added_by_uid': '34598745', 'assigned_by_uid': None, 'checked': True, 'child_order': 1, 'collapsed': False, 'completed_at': '2023-05-31T17:12:19.938539Z', 'content': 'Integrate med_util SQL to DB Notebook', 'description': '', 'due': None, 'id': '6926521863', 'is_deleted': False, 'labels': [], 'parent_id': '6922763161', 'priority': 1, 'project_id': '2273569911', 'responsible_uid': None, 'section_id': '110111394', 'sync_id': None, 'user_id': '34598745'}\n",
      "{'added_at': '2023-05-31T16:01:00.248563Z', 'added_by_uid': '34598745', 'assigned_by_uid': None, 'checked': True, 'child_order': 1, 'collapsed': False, 'completed_at': '2023-05-31T16:01:05.731695Z', 'content': 'Finish med_util MVC, get Chris (and Joe) to peer review code', 'description': '', 'due': None, 'id': '6926319108', 'is_deleted': False, 'labels': [], 'parent_id': '6922763161', 'priority': 1, 'project_id': '2273569911', 'responsible_uid': None, 'section_id': '110111394', 'sync_id': None, 'user_id': '34598745'}\n",
      "{'added_at': '2023-05-31T15:25:08.868836Z', 'added_by_uid': '34598745', 'assigned_by_uid': None, 'checked': True, 'child_order': 1, 'collapsed': False, 'completed_at': '2023-05-31T15:25:32.425815Z', 'content': 'Finish most of med_util SQL conversion', 'description': '', 'due': None, 'id': '6926202688', 'is_deleted': False, 'labels': [], 'parent_id': '6922763161', 'priority': 1, 'project_id': '2273569911', 'responsible_uid': None, 'section_id': '110111394', 'sync_id': None, 'user_id': '34598745'}\n",
      "{'added_at': '2023-05-31T14:40:30.295901Z', 'added_by_uid': '34598745', 'assigned_by_uid': None, 'checked': True, 'child_order': 1, 'collapsed': False, 'completed_at': '2023-05-31T14:40:35.909860Z', 'content': 'Create summer Teams chats, wait for further poll results', 'description': 'Seems unanimous but may have duplicate votes.', 'due': None, 'id': '6926054123', 'is_deleted': False, 'labels': [], 'parent_id': None, 'priority': 1, 'project_id': '2273569911', 'responsible_uid': None, 'section_id': '115627908', 'sync_id': None, 'user_id': '34598745'}\n",
      "{'added_at': '2023-05-31T14:14:49.602168Z', 'added_by_uid': '34598745', 'assigned_by_uid': None, 'checked': True, 'child_order': 10, 'collapsed': False, 'completed_at': '2023-05-31T14:25:23.472843Z', 'content': 'Export claim line- and related tables columns and sample data', 'description': '', 'due': None, 'id': '6925962945', 'is_deleted': False, 'labels': [], 'parent_id': '6925963431', 'priority': 1, 'project_id': '2273569911', 'responsible_uid': None, 'section_id': '110111394', 'sync_id': None, 'user_id': '34598745'}\n",
      "{'added_at': '2023-05-31T11:52:26.263933Z', 'added_by_uid': '34598745', 'assigned_by_uid': None, 'checked': True, 'child_order': 1, 'collapsed': False, 'completed_at': '2023-05-31T13:37:45.562050Z', 'content': 'Create poll for work chat, send to current mentees', 'description': '', 'due': None, 'id': '6925490330', 'is_deleted': False, 'labels': [], 'parent_id': None, 'priority': 1, 'project_id': '2273569911', 'responsible_uid': None, 'section_id': '115627908', 'sync_id': None, 'user_id': '34598745'}\n",
      "{'added_at': '2023-05-30T22:40:14.363986Z', 'added_by_uid': '34598745', 'assigned_by_uid': None, 'checked': True, 'child_order': 1, 'collapsed': False, 'completed_at': '2023-05-30T22:40:40.397643Z', 'content': 'Summer REU Logistics & Plans Discussion', 'description': '', 'due': None, 'id': '6923994017', 'is_deleted': False, 'labels': [], 'parent_id': None, 'priority': 1, 'project_id': '2273569911', 'responsible_uid': None, 'section_id': '115627908', 'sync_id': None, 'user_id': '34598745'}\n",
      "{'added_at': '2023-05-30T14:54:50.231703Z', 'added_by_uid': '34598745', 'assigned_by_uid': None, 'checked': True, 'child_order': 1, 'collapsed': False, 'completed_at': '2023-05-30T20:38:52.841852Z', 'content': 'Ask Katye about pulling member plan details (simplified Plan details list)', 'description': '', 'due': None, 'id': '6922716687', 'is_deleted': False, 'labels': [], 'parent_id': '6922748074', 'priority': 1, 'project_id': '2273569911', 'responsible_uid': None, 'section_id': '110111394', 'sync_id': None, 'user_id': '34598745'}\n",
      "{'added_at': '2023-05-30T19:59:56.854326Z', 'added_by_uid': '34598745', 'assigned_by_uid': None, 'checked': True, 'child_order': 1, 'collapsed': False, 'completed_at': '2023-05-30T20:26:22.280793Z', 'content': 'Quick \"What is going on in HSC Plan\" Code Meeting', 'description': '', 'due': None, 'id': '6923638093', 'is_deleted': False, 'labels': [], 'parent_id': '6920222142', 'priority': 1, 'project_id': '2273569911', 'responsible_uid': None, 'section_id': '110111394', 'sync_id': None, 'user_id': '34598745'}\n",
      "{'added_at': '2023-05-30T17:45:21.240464Z', 'added_by_uid': '34598745', 'assigned_by_uid': None, 'checked': True, 'child_order': 1, 'collapsed': False, 'completed_at': '2023-05-30T19:59:19.739702Z', 'content': 'Internal: Brainstorming Visualizing SVI 2 meeting', 'description': '', 'due': None, 'id': '6923266813', 'is_deleted': False, 'labels': [], 'parent_id': '6920222142', 'priority': 1, 'project_id': '2273569911', 'responsible_uid': None, 'section_id': '110111394', 'sync_id': None, 'user_id': '34598745'}\n",
      "{'added_at': '2023-05-28T21:30:10.684459Z', 'added_by_uid': '34598745', 'assigned_by_uid': None, 'checked': True, 'child_order': 1, 'collapsed': False, 'completed_at': '2023-05-30T19:55:55.906649Z', 'content': 'Migrate old VIGOR NN resources (and hopefully find old VHNN code)', 'description': 'Found preliminary/proto classical AE; will need to recreate VHNN-4', 'due': None, 'id': '6917520931', 'is_deleted': False, 'labels': [], 'parent_id': None, 'priority': 1, 'project_id': '2273569911', 'responsible_uid': None, 'section_id': '108515198', 'sync_id': None, 'user_id': '34598745'}\n",
      "{'added_at': '2023-05-30T18:40:08.611996Z', 'added_by_uid': '34598745', 'assigned_by_uid': None, 'checked': True, 'child_order': 3, 'collapsed': False, 'completed_at': '2023-05-30T18:40:10.125657Z', 'content': 'Ask Joe about HSC Plan, schedule HSC Plan Code meeting with Chris', 'description': '', 'due': None, 'id': '6923424094', 'is_deleted': False, 'labels': [], 'parent_id': None, 'priority': 1, 'project_id': '2273569911', 'responsible_uid': None, 'section_id': '110111394', 'sync_id': None, 'user_id': '34598745'}\n",
      "{'added_at': '2023-05-30T13:47:20.033453Z', 'added_by_uid': '34598745', 'assigned_by_uid': None, 'checked': True, 'child_order': 6, 'collapsed': False, 'completed_at': '2023-05-30T18:21:57.768348Z', 'content': 'Parallelize rx_util', 'description': \"Doesn't actually have to be parallelized but :shrug:\", 'due': None, 'id': '6922472058', 'is_deleted': False, 'labels': [], 'parent_id': '6920222312', 'priority': 1, 'project_id': '2273569911', 'responsible_uid': None, 'section_id': '110111394', 'sync_id': None, 'user_id': '34598745'}\n",
      "{'added_at': '2023-05-30T13:47:35.739987Z', 'added_by_uid': '34598745', 'assigned_by_uid': None, 'checked': True, 'child_order': 5, 'collapsed': False, 'completed_at': '2023-05-30T17:57:39.256071Z', 'content': 'Parallelize subgroups ahead of medical definitions', 'description': '', 'due': None, 'id': '6922473255', 'is_deleted': False, 'labels': [], 'parent_id': '6920222312', 'priority': 1, 'project_id': '2273569911', 'responsible_uid': None, 'section_id': '110111394', 'sync_id': None, 'user_id': '34598745'}\n",
      "{'added_at': '2023-05-30T17:28:04.341908Z', 'added_by_uid': '34598745', 'assigned_by_uid': None, 'checked': True, 'child_order': 3, 'collapsed': False, 'completed_at': '2023-05-30T17:28:05.980928Z', 'content': 'PA Modeling meeting', 'description': '', 'due': None, 'id': '6923217360', 'is_deleted': False, 'labels': [], 'parent_id': None, 'priority': 1, 'project_id': '2273569911', 'responsible_uid': None, 'section_id': '110111394', 'sync_id': None, 'user_id': '34598745'}\n",
      "{'added_at': '2023-05-30T13:47:06.429593Z', 'added_by_uid': '34598745', 'assigned_by_uid': None, 'checked': True, 'child_order': 1, 'collapsed': False, 'completed_at': '2023-05-30T15:57:25.865010Z', 'content': 'PA Team meeting', 'description': '', 'due': None, 'id': '6922471154', 'is_deleted': False, 'labels': [], 'parent_id': '6920222142', 'priority': 1, 'project_id': '2273569911', 'responsible_uid': None, 'section_id': '110111394', 'sync_id': None, 'user_id': '34598745'}\n",
      "{'added_at': '2023-05-29T21:46:17.343369Z', 'added_by_uid': '34598745', 'assigned_by_uid': None, 'checked': True, 'child_order': 1, 'collapsed': False, 'completed_at': '2023-05-29T21:46:27.192774Z', 'content': 'Read .xml Apple Health data and generate test workout heatmap', 'description': '', 'due': None, 'id': '6920426161', 'is_deleted': False, 'labels': [], 'parent_id': '6920360608', 'priority': 1, 'project_id': '2273569911', 'responsible_uid': None, 'section_id': '109935368', 'sync_id': None, 'user_id': '34598745'}\n",
      "{'added_at': '2023-05-29T17:29:52.089860Z', 'added_by_uid': '34598745', 'assigned_by_uid': None, 'checked': True, 'child_order': -1, 'collapsed': False, 'completed_at': '2023-05-29T17:30:09.049893Z', 'content': 'no-track: subitem testing', 'description': '', 'due': None, 'id': '6919851568', 'is_deleted': False, 'labels': [], 'parent_id': '6919824157', 'priority': 1, 'project_id': '2273569911', 'responsible_uid': None, 'section_id': '109935368', 'sync_id': None, 'user_id': '34598745'}\n",
      "{'added_at': '2023-05-29T17:09:45.023259Z', 'added_by_uid': '34598745', 'assigned_by_uid': None, 'checked': True, 'child_order': 5, 'collapsed': False, 'completed_at': '2023-05-29T17:16:13.124003Z', 'content': 'Check for in-progress vs complete ID consistency', 'description': 'id (open) == task_id (completed) on Todoist Sync v9 API', 'due': None, 'id': '6919803871', 'is_deleted': False, 'labels': [], 'parent_id': None, 'priority': 1, 'project_id': '2273569911', 'responsible_uid': None, 'section_id': '109935368', 'sync_id': None, 'user_id': '34598745'}\n"
     ]
    }
   ],
   "source": [
    "event_dict = {}\n",
    "message_list = []\n",
    "\n",
    "headers = {\n",
    "    'Authorization': f'Bearer {tokens[\"todoist1\"]}',\n",
    "}\n",
    "section_dict = section_names(headers)\n",
    "query_url = f\"https://api.todoist.com/sync/v9/completed/get_all?project_id={tokens['todoist_projid']}\"\n",
    "res = requests.get(query_url, headers=headers)\n",
    "r = res.json()[\"items\"]\n",
    "for result in r:\n",
    "    if f\"todoist_{result['id']}\" not in event_dict.keys():\n",
    "        query_url = f\"https://api.todoist.com/sync/v9/items/get?item_id={result['task_id']}\"\n",
    "        res = requests.get(query_url, headers=headers)\n",
    "        print(res.json()[\"item\"])\n",
    "        try:\n",
    "            item = res.json()[\"item\"]\n",
    "        except KeyError:\n",
    "            description = ''\n",
    "            section_id = None\n",
    "        else:\n",
    "            description = item[\"description\"]\n",
    "            section_id = item[\"section_id\"]\n",
    "\n",
    "        if len(description) != 0:\n",
    "            desc_text = f'<br><span class=\"desc\">{description}</span>'\n",
    "        else:\n",
    "            desc_text = ''\n",
    "\n",
    "        item_parents = {}\n",
    "        # print(result)\n",
    "\n",
    "        # current_item = result\n",
    "        # while True:\n",
    "        #     if current_item[\"parent_id\"] is None:\n",
    "        #         break\n",
    "        #     else:\n",
    "        #         current_item = results[current_item[\"parent_id\"]]\n",
    "        #         current_item_text = current_item[\"content\"]\n",
    "        #         if current_item_text[:2] == \"* \":\n",
    "        #             current_item_text = current_item_text[2:]\n",
    "        #         item_parents[result['task_id']] = current_item_text\n",
    "\n",
    "        # print(result)\n",
    "        if section_id is not None:\n",
    "            if res.json()[\"item\"][\"due\"] is not None:\n",
    "                at_datetime = datetime.datetime.strptime(res.json()[\"item\"][\"due\"][\"datetime\"], \"%Y-%m-%dT%H:%M:%S\")\n",
    "                at_flavor_text = f\" on {at_datetime.strftime('%m/%d')} at {at_datetime.strftime('%H:%M')}\"\n",
    "            else:\n",
    "                at_flavor_text = ''\n",
    "\n",
    "            sect_id_text = f' under <b>{section_dict[section_id]}{at_flavor_text}</b>'\n",
    "            # sect_id_text = f' under <b>{section_dict[section_id]}</b>'\n",
    "        else:\n",
    "            sect_id_text = ''\n",
    "\n",
    "        m = f\"Closed Todoist task{sect_id_text}||{result['content']}{desc_text}\"\n",
    "    else:\n",
    "        m = event_dict[f\"todoist_{result['id']}\"][1]\n",
    "\n",
    "    # Thanks to Jon Betts on https://stackoverflow.com/questions/23394608/python-regex-fails-to-identify-markdown-links\n",
    "    name_regex = \"[^]]+\"\n",
    "    url_regex = \"http[s]?://[^)]+\"\n",
    "    link_regex = '\\[({0})]\\(\\s*({1})\\s*\\)'.format(name_regex, url_regex)\n",
    "\n",
    "    # Thanks to NPE & kubanczyk on https://stackoverflow.com/questions/7191209/re-sub-replace-with-matched-content\n",
    "    m = re.sub(link_regex, r'<a href=\"\\2\">\\1</a>', m)\n",
    "\n",
    "    mtime = result[\"completed_at\"]\n",
    "    dtime = datetime.datetime.strptime(mtime, \"%Y-%m-%dT%H:%M:%S.%fZ\")\n",
    "    message_list.append(\n",
    "        {\"time\": dtime, \"message\": m, \"via\": \"Todoist\", \"id\": f'todoist_{result[\"id\"]}', \"mtime\": mtime,\n",
    "         \"version\": version})"
   ],
   "metadata": {
    "collapsed": false,
    "pycharm": {
     "name": "#%%\n"
    }
   }
  },
  {
   "cell_type": "code",
   "execution_count": null,
   "outputs": [],
   "source": [],
   "metadata": {
    "collapsed": false,
    "pycharm": {
     "name": "#%%\n"
    }
   }
  }
 ],
 "metadata": {
  "kernelspec": {
   "display_name": "Python 3",
   "language": "python",
   "name": "python3"
  },
  "language_info": {
   "codemirror_mode": {
    "name": "ipython",
    "version": 2
   },
   "file_extension": ".py",
   "mimetype": "text/x-python",
   "name": "python",
   "nbconvert_exporter": "python",
   "pygments_lexer": "ipython2",
   "version": "2.7.6"
  }
 },
 "nbformat": 4,
 "nbformat_minor": 0
}