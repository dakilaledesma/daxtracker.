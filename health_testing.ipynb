{
 "cells": [
  {
   "cell_type": "code",
   "execution_count": 4,
   "metadata": {
    "collapsed": true,
    "pycharm": {
     "name": "#%%\n"
    }
   },
   "outputs": [],
   "source": [
    "import requests\n",
    "import datetime\n",
    "import pytz\n",
    "\n",
    "import os.path\n",
    "\n",
    "from google.auth.transport.requests import Request\n",
    "from google_auth_oauthlib.flow import InstalledAppFlow\n",
    "from googleapiclient.discovery import build\n",
    "from google.oauth2 import service_account\n",
    "\n",
    "from git import Repo\n",
    "import yaml\n",
    "import re\n",
    "import matplotlib\n",
    "import matplotlib.pyplot as plt\n",
    "from collections import defaultdict\n",
    "import numpy as np\n",
    "import json\n",
    "from bs4 import BeautifulSoup"
   ]
  },
  {
   "cell_type": "code",
   "execution_count": 14,
   "outputs": [],
   "source": [
    "def to_eastern(_time):\n",
    "    return _time.replace(tzinfo=pytz.utc).astimezone(pytz.timezone(\"US/Eastern\"))\n",
    "\n",
    "def generate_heatmap(data):\n",
    "    dates = [datetime.datetime.today() - datetime.timedelta(days=i) for i in range(364)]\n",
    "    while True:\n",
    "        if dates[-1].weekday() != 6:\n",
    "            dates.append(dates[-1] - datetime.timedelta(days=1))\n",
    "        else:\n",
    "            break\n",
    "\n",
    "    while True:\n",
    "        if dates[0].weekday() != 5:\n",
    "            dates.insert(0, dates[0] + datetime.timedelta(days=1))\n",
    "        else:\n",
    "            break\n",
    "\n",
    "    dates = [d.date() for d in dates]\n",
    "    contrib_dict = defaultdict(int)\n",
    "    for ts in data:\n",
    "        date = to_eastern(datetime.datetime.fromtimestamp(ts)).date()\n",
    "        start_date = datetime.datetime.strptime('19062022', \"%d%m%Y\").date()\n",
    "        if date in dates and start_date < date:\n",
    "            contrib_dict[date] += 1\n",
    "\n",
    "    mean_array = [v for v in list(contrib_dict.values()) if v != 0]\n",
    "    mean = sum(mean_array) / len(mean_array)\n",
    "\n",
    "    for d in dates:\n",
    "        if datetime.datetime.today().date() < d:\n",
    "            contrib_dict[d] = -1\n",
    "        if d not in contrib_dict.keys():\n",
    "            contrib_dict[d] = -1\n",
    "\n",
    "    dates = sorted(dates)\n",
    "    contrib_dict = dict(sorted(contrib_dict.items()))\n",
    "\n",
    "    data_array = np.array(list(contrib_dict.values())).reshape((-1, 7))\n",
    "    dates = np.array(dates).reshape((-1, 7))\n",
    "    x_ticks = []\n",
    "    month = dates[0][0].strftime(\"%b\")\n",
    "    for week in dates:\n",
    "        month_change = False\n",
    "        for day in week:\n",
    "            if day.strftime(\"%b\") != month:\n",
    "                month_change = True\n",
    "                month = day.strftime(\"%b\")\n",
    "\n",
    "        if month_change:\n",
    "            x_ticks.append(month)\n",
    "        else:\n",
    "            x_ticks.append(\"\")\n",
    "\n",
    "    data_array = np.flipud(data_array.T)\n",
    "    ax2_labels = [\"\", \"\", \"\", \"\", \"\", \"\", \"\"]\n",
    "    for idx, date in enumerate(dates[-1]):\n",
    "        if date == datetime.date.today():\n",
    "            ax2_labels[(idx * -1) - 1] = \"←\"\n",
    "\n",
    "    # https://stackoverflow.com/questions/69050234/center-specified-tick-labels-for-matplotlibs-pcolomesh-at-the-boxes\n",
    "    x = np.arange(data_array.shape[1])\n",
    "    y = np.arange(7)\n",
    "    c = data_array\n",
    "    c_base = np.full(c.shape, 3)\n",
    "    plt.rcParams.update({'font.size': 13,\n",
    "                         \"xtick.color\": \"dimgray\",\n",
    "                         \"ytick.color\": \"dimgray\"})\n",
    "    fig, ax = plt.subplots(figsize=(14, 2))\n",
    "\n",
    "    # https://stackoverflow.com/questions/14908576/how-to-remove-frame-from-matplotlib-pyplot-figure-vs-matplotlib-figure-frame\n",
    "    ax.spines['top'].set_visible(False)\n",
    "    ax.spines['right'].set_visible(False)\n",
    "    ax.spines['bottom'].set_visible(False)\n",
    "    ax.spines['left'].set_visible(False)\n",
    "\n",
    "    # https://stackoverflow.com/questions/29988241/python-hide-ticks-but-show-tick-labels\n",
    "    ax.tick_params(axis=u'both', which=u'both', length=0)\n",
    "    ax.set_yticks(y)\n",
    "    ax.set_yticklabels([\"\", \"Fri\", \"\", \"Wed\", \"\", \"Mon\", \"\"])\n",
    "    ax.set_xticks(x)\n",
    "    ax.set_xticklabels(x_ticks)\n",
    "    ax.xaxis.tick_top()\n",
    "\n",
    "    ax2 = ax.twinx()\n",
    "    ax2.spines['top'].set_visible(False)\n",
    "    ax2.spines['right'].set_visible(False)\n",
    "    ax2.spines['bottom'].set_visible(False)\n",
    "    ax2.spines['left'].set_visible(False)\n",
    "\n",
    "    ax2.tick_params(axis=u'both', which=u'both', length=0)\n",
    "    ax2.set_yticks(y)\n",
    "    ax2.set_yticklabels(ax2_labels)\n",
    "    ax2.set_xticks(x)\n",
    "    ax2.set_xticklabels(x_ticks)\n",
    "    ax2.xaxis.tick_top()\n",
    "\n",
    "    heat_cmap = matplotlib.cm.get_cmap(\"Oranges\").copy()\n",
    "    heat_cmap.set_under('w')\n",
    "    plt.pcolormesh(x, y, c, cmap=heat_cmap, edgecolors='w', linewidths=1, vmax=mean * 1.5)\n",
    "    plt.savefig(\"heatmap.png\", bbox_inches='tight', pad_inches=0)\n"
   ],
   "metadata": {
    "collapsed": false,
    "pycharm": {
     "name": "#%%\n"
    }
   }
  },
  {
   "cell_type": "code",
   "execution_count": 15,
   "outputs": [],
   "source": [
    "with open('data/export.xml', 'r') as f:\n",
    "    data = f.read()\n",
    "\n",
    "Bs_data = BeautifulSoup(data, \"xml\")\n",
    "workouts = Bs_data.find_all('Workout')"
   ],
   "metadata": {
    "collapsed": false,
    "pycharm": {
     "name": "#%%\n"
    }
   }
  },
  {
   "cell_type": "code",
   "execution_count": 16,
   "outputs": [],
   "source": [
    "workout_dates = []\n",
    "for w in workouts:\n",
    "    workout_dates.append(datetime.datetime.strptime(w[\"creationDate\"],\"%Y-%m-%d %H:%M:%S %z\").timestamp())"
   ],
   "metadata": {
    "collapsed": false,
    "pycharm": {
     "name": "#%%\n"
    }
   }
  },
  {
   "cell_type": "code",
   "execution_count": 17,
   "outputs": [
    {
     "data": {
      "text/plain": "<Figure size 1400x200 with 2 Axes>",
      "image/png": "[encoded data removed]"
     },
     "metadata": {},
     "output_type": "display_data"
    }
   ],
   "source": [
    "generate_heatmap(workout_dates)"
   ],
   "metadata": {
    "collapsed": false,
    "pycharm": {
     "name": "#%%\n"
    }
   }
  },
  {
   "cell_type": "code",
   "execution_count": null,
   "outputs": [],
   "source": [],
   "metadata": {
    "collapsed": false,
    "pycharm": {
     "name": "#%%\n"
    }
   }
  }
 ],
 "metadata": {
  "kernelspec": {
   "display_name": "Python 3",
   "language": "python",
   "name": "python3"
  },
  "language_info": {
   "codemirror_mode": {
    "name": "ipython",
    "version": 2
   },
   "file_extension": ".py",
   "mimetype": "text/x-python",
   "name": "python",
   "nbconvert_exporter": "python",
   "pygments_lexer": "ipython2",
   "version": "2.7.6"
  }
 },
 "nbformat": 4,
 "nbformat_minor": 0
}