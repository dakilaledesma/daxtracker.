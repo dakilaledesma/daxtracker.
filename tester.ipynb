{
 "cells": [
  {
   "cell_type": "code",
   "execution_count": 22,
   "metadata": {
    "is_executing": true
   },
   "outputs": [],
   "source": [
    "message = \"\""
   ]
  },
  {
   "cell_type": "code",
   "execution_count": 23,
   "metadata": {},
   "outputs": [],
   "source": [
    "allowed_words = \"investigate on meeting send respond response email build code new to test modify and create data \" \\\n",
    "                \"DSCoE rename finish convert implementation write writing check cancel re-run on in request PTO ask \" \\\n",
    "                \"re-test re-write re-code test reach out notify monthly notebook script change call about no yes to \" \\\n",
    "                \"analyze delete verify talk about refresh re-pull a attach item get working install session with \" \\\n",
    "                \"without how-to of commit calculation delta deltas through debug correct function functions handle add move\".split(\" \")"
   ]
  },
  {
   "cell_type": "code",
   "execution_count": 24,
   "metadata": {
    "is_executing": true
   },
   "outputs": [
    {
     "name": "stdout",
     "output_type": "stream",
     "text": [
      "\n",
      "\n"
     ]
    }
   ],
   "source": [
    "alphanum_message = \"\".join([c if (c.isalnum() or c == '_') else \" \" for c in message])\n",
    "\n",
    "\n",
    "for word in alphanum_message.split(\" \"):\n",
    "    print(word)\n",
    "    if word.lower() not in allowed_words and word != '':\n",
    "        message = message.replace(word, f'<span style=\"text-decoration: underline dotted; -webkit-text-decoration: underline dotted;\">{\" \" * len(word)}</span>')\n",
    "\n",
    "print(message)"
   ]
  },
  {
   "cell_type": "code",
   "execution_count": null,
   "metadata": {},
   "outputs": [],
   "source": []
  }
 ],
 "metadata": {
  "kernelspec": {
   "display_name": "Python 3 (ipykernel)",
   "language": "python",
   "name": "python3"
  },
  "language_info": {
   "codemirror_mode": {
    "name": "ipython",
    "version": 3
   },
   "file_extension": ".py",
   "mimetype": "text/x-python",
   "name": "python",
   "nbconvert_exporter": "python",
   "pygments_lexer": "ipython3",
   "version": "3.10.12"
  }
 },
 "nbformat": 4,
 "nbformat_minor": 1
}
